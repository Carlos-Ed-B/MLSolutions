{
 "cells": [
  {
   "cell_type": "markdown",
   "metadata": {},
   "source": [
    "# Trabalho Final - Análise de acidentes nas Rodovias do Brasil em 2019\n",
    "\n",
    "Este projeto é a implementação de um modelo de Machine Learning utilizando Python 3 no Google Cloud (GCP). Os dados utilizados foram obtidos no site da Polícia Federal Rodoviária - PFR neste link: https://arquivos.prf.gov.br/arquivos/index.php/s/kRBUylqz6DyQznN. O dataset datatran2019.csv possui dados a respeito de todos os acidentes rodoviários em rodovias federais brasileiras no ano de 2019. Acidentes em rodovias estaduais ou municipais não estão neste dataset.\n"
   ]
  },
  {
   "cell_type": "code",
   "execution_count": 40,
   "metadata": {},
   "outputs": [],
   "source": [
    "from IPython.display import HTML\n",
    "import math\n",
    "from collections import Counter\n",
    "import pandas as pd\n",
    "import numpy as np\n",
    "import seaborn as sns\n",
    "import matplotlib.pyplot as plt\n",
    "import scipy.stats as ss\n",
    "from sklearn.model_selection import train_test_split\n",
    "from sklearn.impute import SimpleImputer\n",
    "from sklearn.pipeline import Pipeline\n",
    "from sklearn.preprocessing import StandardScaler, MinMaxScaler\n",
    "from sklearn.pipeline import FeatureUnion\n",
    "from sklearn.preprocessing import OrdinalEncoder\n",
    "from sklearn.linear_model import LinearRegression\n",
    "from sklearn.metrics import mean_squared_error"
   ]
  },
  {
   "cell_type": "code",
   "execution_count": 38,
   "metadata": {},
   "outputs": [],
   "source": [
    "#funcoes\n",
    "\n",
    "def convertToYesNo(data, columnName):\n",
    "    #data = data.astype({columnName: object})\n",
    "    data[columnName].replace(to_replace= {1:'Sim',0:'Não'}, inplace= True)\n",
    "\n",
    "def convertColumnsToYesNo(data,columns):\n",
    "    for item in columns:\n",
    "        convertToYesNo(data,item)\n",
    "\n",
    "def createPLot(data, columnName, labelCategory, topValues = 10, isShow = True):\n",
    "    values_ocean = data[columnName].value_counts().head(topValues)\n",
    "    values_ocean.plot(kind='bar', colormap = 'winter')\n",
    "\n",
    "    plt.title('Variável categórica \"' + labelCategory + '\" Top ' + str(topValues) + '')\n",
    "    plt.xlabel(labelCategory)\n",
    "    plt.ylabel('Frequência')\n",
    "\n",
    "    plt.show()\n",
    "\n",
    "def createPLotBarh(data, columnName, labelCategory):\n",
    "    countStatus = data[columnName].value_counts().sort_values()\n",
    "    plt.title('Variável categórica \"' + labelCategory + '\"')    \n",
    "    plt.ylabel('Frequência')\n",
    "    countStatus.plot.barh()\n",
    "\n",
    "    plt.show() \n",
    "\n",
    "def conditional_entropy(x,y):\n",
    "    # entropy of x given y\n",
    "    y_counter = Counter(y)\n",
    "    xy_counter = Counter(list(zip(x,y)))\n",
    "    total_occurrences = sum(y_counter.values())\n",
    "    entropy = 0\n",
    "    for xy in xy_counter.keys():\n",
    "        p_xy = xy_counter[xy] / total_occurrences\n",
    "        p_y = y_counter[xy[1]] / total_occurrences\n",
    "        entropy += p_xy * math.log(p_y/p_xy)\n",
    "    return entropy\n",
    "\n",
    "def theil_u(x,y):\n",
    "    s_xy = conditional_entropy(x,y)\n",
    "    x_counter = Counter(x)\n",
    "    total_occurrences = sum(x_counter.values())\n",
    "    p_x = list(map(lambda n: n/total_occurrences, x_counter.values()))\n",
    "    s_x = ss.entropy(p_x)\n",
    "    if s_x == 0:\n",
    "        return 1\n",
    "    else:\n",
    "        return (s_x - s_xy) / s_x\n"
   ]
  },
  {
   "cell_type": "code",
   "execution_count": 3,
   "metadata": {},
   "outputs": [
    {
     "output_type": "execute_result",
     "data": {
      "text/plain": "         id     pesid data_inversa   dia_semana   horario  uf     br     km  \\\n0  182210.0  402103.0   2019-01-01  terça-feira  01:30:00  SP  116.0    218   \n1  182210.0  402106.0   2019-01-01  terça-feira  01:30:00  SP  116.0    218   \n2  182210.0  402104.0   2019-01-01  terça-feira  01:30:00  SP  116.0    218   \n3  182210.0  402102.0   2019-01-01  terça-feira  01:30:00  SP  116.0    218   \n4  182211.0  402126.0   2019-01-01  terça-feira  01:30:00  PR  373.0  177,3   \n\n      municipio causa_principal  ...       sexo  ilesos feridos_leves  \\\n0     GUARULHOS             Sim  ...  Masculino       0             1   \n1     GUARULHOS             Sim  ...  Masculino       0             1   \n2     GUARULHOS             Sim  ...   Feminino       0             1   \n3     GUARULHOS             Sim  ...  Masculino       0             1   \n4  PONTA GROSSA             Sim  ...  Masculino       0             1   \n\n  feridos_graves mortos      latitude     longitude regional delegacia  \\\n0              0      0  -23,46052014  -46,48772478    SR-SP    DEL6/1   \n1              0      0  -23,46052014  -46,48772478    SR-SP    DEL6/1   \n2              0      0  -23,46052014  -46,48772478    SR-SP    DEL6/1   \n3              0      0  -23,46052014  -46,48772478    SR-SP    DEL6/1   \n4              0      0  -25,05533957  -50,22776753    SR-PR    DEL7/3   \n\n        uop  \n0  UOP01/SP  \n1  UOP01/SP  \n2  UOP01/SP  \n3  UOP01/SP  \n4  UOP01/PR  \n\n[5 rows x 37 columns]",
      "text/html": "<div>\n<style scoped>\n    .dataframe tbody tr th:only-of-type {\n        vertical-align: middle;\n    }\n\n    .dataframe tbody tr th {\n        vertical-align: top;\n    }\n\n    .dataframe thead th {\n        text-align: right;\n    }\n</style>\n<table border=\"1\" class=\"dataframe\">\n  <thead>\n    <tr style=\"text-align: right;\">\n      <th></th>\n      <th>id</th>\n      <th>pesid</th>\n      <th>data_inversa</th>\n      <th>dia_semana</th>\n      <th>horario</th>\n      <th>uf</th>\n      <th>br</th>\n      <th>km</th>\n      <th>municipio</th>\n      <th>causa_principal</th>\n      <th>...</th>\n      <th>sexo</th>\n      <th>ilesos</th>\n      <th>feridos_leves</th>\n      <th>feridos_graves</th>\n      <th>mortos</th>\n      <th>latitude</th>\n      <th>longitude</th>\n      <th>regional</th>\n      <th>delegacia</th>\n      <th>uop</th>\n    </tr>\n  </thead>\n  <tbody>\n    <tr>\n      <td>0</td>\n      <td>182210.0</td>\n      <td>402103.0</td>\n      <td>2019-01-01</td>\n      <td>terça-feira</td>\n      <td>01:30:00</td>\n      <td>SP</td>\n      <td>116.0</td>\n      <td>218</td>\n      <td>GUARULHOS</td>\n      <td>Sim</td>\n      <td>...</td>\n      <td>Masculino</td>\n      <td>0</td>\n      <td>1</td>\n      <td>0</td>\n      <td>0</td>\n      <td>-23,46052014</td>\n      <td>-46,48772478</td>\n      <td>SR-SP</td>\n      <td>DEL6/1</td>\n      <td>UOP01/SP</td>\n    </tr>\n    <tr>\n      <td>1</td>\n      <td>182210.0</td>\n      <td>402106.0</td>\n      <td>2019-01-01</td>\n      <td>terça-feira</td>\n      <td>01:30:00</td>\n      <td>SP</td>\n      <td>116.0</td>\n      <td>218</td>\n      <td>GUARULHOS</td>\n      <td>Sim</td>\n      <td>...</td>\n      <td>Masculino</td>\n      <td>0</td>\n      <td>1</td>\n      <td>0</td>\n      <td>0</td>\n      <td>-23,46052014</td>\n      <td>-46,48772478</td>\n      <td>SR-SP</td>\n      <td>DEL6/1</td>\n      <td>UOP01/SP</td>\n    </tr>\n    <tr>\n      <td>2</td>\n      <td>182210.0</td>\n      <td>402104.0</td>\n      <td>2019-01-01</td>\n      <td>terça-feira</td>\n      <td>01:30:00</td>\n      <td>SP</td>\n      <td>116.0</td>\n      <td>218</td>\n      <td>GUARULHOS</td>\n      <td>Sim</td>\n      <td>...</td>\n      <td>Feminino</td>\n      <td>0</td>\n      <td>1</td>\n      <td>0</td>\n      <td>0</td>\n      <td>-23,46052014</td>\n      <td>-46,48772478</td>\n      <td>SR-SP</td>\n      <td>DEL6/1</td>\n      <td>UOP01/SP</td>\n    </tr>\n    <tr>\n      <td>3</td>\n      <td>182210.0</td>\n      <td>402102.0</td>\n      <td>2019-01-01</td>\n      <td>terça-feira</td>\n      <td>01:30:00</td>\n      <td>SP</td>\n      <td>116.0</td>\n      <td>218</td>\n      <td>GUARULHOS</td>\n      <td>Sim</td>\n      <td>...</td>\n      <td>Masculino</td>\n      <td>0</td>\n      <td>1</td>\n      <td>0</td>\n      <td>0</td>\n      <td>-23,46052014</td>\n      <td>-46,48772478</td>\n      <td>SR-SP</td>\n      <td>DEL6/1</td>\n      <td>UOP01/SP</td>\n    </tr>\n    <tr>\n      <td>4</td>\n      <td>182211.0</td>\n      <td>402126.0</td>\n      <td>2019-01-01</td>\n      <td>terça-feira</td>\n      <td>01:30:00</td>\n      <td>PR</td>\n      <td>373.0</td>\n      <td>177,3</td>\n      <td>PONTA GROSSA</td>\n      <td>Sim</td>\n      <td>...</td>\n      <td>Masculino</td>\n      <td>0</td>\n      <td>1</td>\n      <td>0</td>\n      <td>0</td>\n      <td>-25,05533957</td>\n      <td>-50,22776753</td>\n      <td>SR-PR</td>\n      <td>DEL7/3</td>\n      <td>UOP01/PR</td>\n    </tr>\n  </tbody>\n</table>\n<p>5 rows × 37 columns</p>\n</div>"
     },
     "metadata": {},
     "execution_count": 3
    }
   ],
   "source": [
    "#Importação dos dados.\n",
    "#low_memory: recebeu False como parâmetro para que os campos fossem lidos conforme consta no arquivo, de modo a evitar a tipagem de cada campo manualmente\n",
    "\n",
    "dataSource = pd.read_csv('DataSource/acidentes2019_todas_causas_tipos_encode.csv', sep = ';')#, low_memory= False\n",
    "dataSource.head()"
   ]
  },
  {
   "cell_type": "code",
   "execution_count": 4,
   "metadata": {},
   "outputs": [
    {
     "output_type": "execute_result",
     "data": {
      "text/plain": "              id     pesid data_inversa     dia_semana   horario  uf     br  \\\n331661  266434.0  593948.0   2019-06-03  segunda-feira  19:00:00  CE  222.0   \n331662  266434.0  593947.0   2019-06-03  segunda-feira  19:00:00  CE  222.0   \n331663  266573.0  594270.0   2019-07-13         sábado  19:35:00  PR  373.0   \n331664  266573.0  594270.0   2019-07-13         sábado  19:35:00  PR  373.0   \n331665  266627.0  594393.0   2019-10-22    terça-feira  20:20:00  BA  324.0   \n\n         km     municipio causa_principal  ...       sexo  ilesos  \\\n331661  1,4       CAUCAIA             Sim  ...  Masculino       0   \n331662  1,4       CAUCAIA             Sim  ...  Masculino       1   \n331663  425        CANDOI             Sim  ...  Masculino       0   \n331664  425        CANDOI             Sim  ...  Masculino       0   \n331665  608  SIMOES FILHO             Sim  ...  Masculino       0   \n\n       feridos_leves feridos_graves mortos      latitude     longitude  \\\n331661             0              1      0     -3,736507     -38,65337   \n331662             0              0      0     -3,736507     -38,65337   \n331663             0              1      0  -25,71180139  -52,18373987   \n331664             0              1      0  -25,71180139  -52,18373987   \n331665             1              0      0  -12,78155812  -38,41655733   \n\n       regional delegacia       uop  \n331661    SR-CE   DEL16/1  UOP01/CE  \n331662    SR-CE   DEL16/1  UOP01/CE  \n331663    SR-PR    DEL7/3  UOP02/PR  \n331664    SR-PR    DEL7/3  UOP02/PR  \n331665    SR-BA   DEL10/1  UOP01/BA  \n\n[5 rows x 37 columns]",
      "text/html": "<div>\n<style scoped>\n    .dataframe tbody tr th:only-of-type {\n        vertical-align: middle;\n    }\n\n    .dataframe tbody tr th {\n        vertical-align: top;\n    }\n\n    .dataframe thead th {\n        text-align: right;\n    }\n</style>\n<table border=\"1\" class=\"dataframe\">\n  <thead>\n    <tr style=\"text-align: right;\">\n      <th></th>\n      <th>id</th>\n      <th>pesid</th>\n      <th>data_inversa</th>\n      <th>dia_semana</th>\n      <th>horario</th>\n      <th>uf</th>\n      <th>br</th>\n      <th>km</th>\n      <th>municipio</th>\n      <th>causa_principal</th>\n      <th>...</th>\n      <th>sexo</th>\n      <th>ilesos</th>\n      <th>feridos_leves</th>\n      <th>feridos_graves</th>\n      <th>mortos</th>\n      <th>latitude</th>\n      <th>longitude</th>\n      <th>regional</th>\n      <th>delegacia</th>\n      <th>uop</th>\n    </tr>\n  </thead>\n  <tbody>\n    <tr>\n      <td>331661</td>\n      <td>266434.0</td>\n      <td>593948.0</td>\n      <td>2019-06-03</td>\n      <td>segunda-feira</td>\n      <td>19:00:00</td>\n      <td>CE</td>\n      <td>222.0</td>\n      <td>1,4</td>\n      <td>CAUCAIA</td>\n      <td>Sim</td>\n      <td>...</td>\n      <td>Masculino</td>\n      <td>0</td>\n      <td>0</td>\n      <td>1</td>\n      <td>0</td>\n      <td>-3,736507</td>\n      <td>-38,65337</td>\n      <td>SR-CE</td>\n      <td>DEL16/1</td>\n      <td>UOP01/CE</td>\n    </tr>\n    <tr>\n      <td>331662</td>\n      <td>266434.0</td>\n      <td>593947.0</td>\n      <td>2019-06-03</td>\n      <td>segunda-feira</td>\n      <td>19:00:00</td>\n      <td>CE</td>\n      <td>222.0</td>\n      <td>1,4</td>\n      <td>CAUCAIA</td>\n      <td>Sim</td>\n      <td>...</td>\n      <td>Masculino</td>\n      <td>1</td>\n      <td>0</td>\n      <td>0</td>\n      <td>0</td>\n      <td>-3,736507</td>\n      <td>-38,65337</td>\n      <td>SR-CE</td>\n      <td>DEL16/1</td>\n      <td>UOP01/CE</td>\n    </tr>\n    <tr>\n      <td>331663</td>\n      <td>266573.0</td>\n      <td>594270.0</td>\n      <td>2019-07-13</td>\n      <td>sábado</td>\n      <td>19:35:00</td>\n      <td>PR</td>\n      <td>373.0</td>\n      <td>425</td>\n      <td>CANDOI</td>\n      <td>Sim</td>\n      <td>...</td>\n      <td>Masculino</td>\n      <td>0</td>\n      <td>0</td>\n      <td>1</td>\n      <td>0</td>\n      <td>-25,71180139</td>\n      <td>-52,18373987</td>\n      <td>SR-PR</td>\n      <td>DEL7/3</td>\n      <td>UOP02/PR</td>\n    </tr>\n    <tr>\n      <td>331664</td>\n      <td>266573.0</td>\n      <td>594270.0</td>\n      <td>2019-07-13</td>\n      <td>sábado</td>\n      <td>19:35:00</td>\n      <td>PR</td>\n      <td>373.0</td>\n      <td>425</td>\n      <td>CANDOI</td>\n      <td>Sim</td>\n      <td>...</td>\n      <td>Masculino</td>\n      <td>0</td>\n      <td>0</td>\n      <td>1</td>\n      <td>0</td>\n      <td>-25,71180139</td>\n      <td>-52,18373987</td>\n      <td>SR-PR</td>\n      <td>DEL7/3</td>\n      <td>UOP02/PR</td>\n    </tr>\n    <tr>\n      <td>331665</td>\n      <td>266627.0</td>\n      <td>594393.0</td>\n      <td>2019-10-22</td>\n      <td>terça-feira</td>\n      <td>20:20:00</td>\n      <td>BA</td>\n      <td>324.0</td>\n      <td>608</td>\n      <td>SIMOES FILHO</td>\n      <td>Sim</td>\n      <td>...</td>\n      <td>Masculino</td>\n      <td>0</td>\n      <td>1</td>\n      <td>0</td>\n      <td>0</td>\n      <td>-12,78155812</td>\n      <td>-38,41655733</td>\n      <td>SR-BA</td>\n      <td>DEL10/1</td>\n      <td>UOP01/BA</td>\n    </tr>\n  </tbody>\n</table>\n<p>5 rows × 37 columns</p>\n</div>"
     },
     "metadata": {},
     "execution_count": 4
    }
   ],
   "source": [
    "dataSource.tail()"
   ]
  },
  {
   "cell_type": "markdown",
   "metadata": {},
   "source": [
    "### Parte 1: Análise e visualização de dados "
   ]
  },
  {
   "cell_type": "markdown",
   "metadata": {},
   "source": [
    "### Parte 1: Análise e visualização de dados - Dados não importantes\n",
    "Vamos remover as colunas ['id', 'pesid', 'ordem_tipo_acidente','id_veiculo', 'uop'] pois se tratam de colunas de indentificação e não tem importancia para o modelo.\n"
   ]
  },
  {
   "cell_type": "code",
   "execution_count": 5,
   "metadata": {},
   "outputs": [],
   "source": [
    "#memovendo colunas inuteis\n",
    "removerColunas = ['id', 'pesid', 'ordem_tipo_acidente', 'id_veiculo', 'uop']\n",
    "dataSource = dataSource.drop(removerColunas, axis=1)"
   ]
  },
  {
   "cell_type": "markdown",
   "metadata": {},
   "source": [
    "### Parte 1: Análise e visualização de dados - Tipos de Dados\n",
    "Encontramos tipos de dados inválidos, como 'id' e 'pesoid' que vamos ajustar porteriormente.\n"
   ]
  },
  {
   "cell_type": "code",
   "execution_count": 6,
   "metadata": {},
   "outputs": [
    {
     "output_type": "stream",
     "name": "stdout",
     "text": "<class 'pandas.core.frame.DataFrame'>\nRangeIndex: 331666 entries, 0 to 331665\nData columns (total 32 columns):\ndata_inversa              331666 non-null object\ndia_semana                331666 non-null object\nhorario                   331666 non-null object\nuf                        331666 non-null object\nbr                        331291 non-null float64\nkm                        331291 non-null object\nmunicipio                 331666 non-null object\ncausa_principal           331666 non-null object\ncausa_acidente            331666 non-null object\ntipo_acidente             331626 non-null object\nclassificacao_acidente    331666 non-null object\nfase_dia                  331666 non-null object\nsentido_via               331666 non-null object\ncondicao_metereologica    331666 non-null object\ntipo_pista                331666 non-null object\ntracado_via               331666 non-null object\nuso_solo                  331666 non-null object\ntipo_veiculo              331666 non-null object\nmarca                     317602 non-null object\nano_fabricacao_veiculo    314393 non-null float64\ntipo_envolvido            331666 non-null object\nestado_fisico             331666 non-null object\nidade                     269798 non-null float64\nsexo                      331666 non-null object\nilesos                    331666 non-null int64\nferidos_leves             331666 non-null int64\nferidos_graves            331666 non-null int64\nmortos                    331666 non-null int64\nlatitude                  331666 non-null object\nlongitude                 331666 non-null object\nregional                  331666 non-null object\ndelegacia                 331666 non-null object\ndtypes: float64(3), int64(4), object(25)\nmemory usage: 81.0+ MB\n"
    }
   ],
   "source": [
    "#analise de tipos de dados\n",
    "dataSource.info()"
   ]
  },
  {
   "cell_type": "markdown",
   "metadata": {},
   "source": [
    "### Parte 1: Análise e visualização de dados - Tipos de Dados\n",
    "O dataset possui colunas com tipos de dados inválidos que podem afetar a forma de leitura, como por exemplo 'ano_fabricacao_veiculo', essa informação não é númerica e sim qualitativa. Vamos alterar esses dados para termos os gráficos de historigra e plot válidos.\n",
    "\n",
    "\n"
   ]
  },
  {
   "cell_type": "code",
   "execution_count": 7,
   "metadata": {},
   "outputs": [],
   "source": [
    "dataSource = dataSource.astype({\"ano_fabricacao_veiculo\": object})\n",
    "dataSource = dataSource.astype({\"idade\": object})\n",
    "dataSource = dataSource.astype({\"br\": object})\n",
    "dataSource = dataSource.astype({\"km\": object})\n",
    "\n",
    "#ano_fabricacao_veiculo tiverem ajustes mais detalhados, como esta como float, tive que converter para int\n",
    "dataSource[\"ano_fabricacao_veiculo\"].fillna(\"0\", inplace = True)\n",
    "dataSource = dataSource.astype({\"ano_fabricacao_veiculo\": int})\n",
    "dataSource = dataSource.astype({\"ano_fabricacao_veiculo\": object})\n",
    "\n",
    "dataSource[\"idade\"].fillna(\"0\", inplace = True)\n",
    "dataSource = dataSource.astype({\"idade\": int})\n",
    "#dataSource = dataSource.astype({\"idade\": object})\n",
    "\n",
    ""
   ]
  },
  {
   "cell_type": "code",
   "execution_count": 8,
   "metadata": {},
   "outputs": [
    {
     "output_type": "stream",
     "name": "stdout",
     "text": "<class 'pandas.core.frame.DataFrame'>\nRangeIndex: 331666 entries, 0 to 331665\nData columns (total 32 columns):\ndata_inversa              331666 non-null object\ndia_semana                331666 non-null object\nhorario                   331666 non-null object\nuf                        331666 non-null object\nbr                        331291 non-null object\nkm                        331291 non-null object\nmunicipio                 331666 non-null object\ncausa_principal           331666 non-null object\ncausa_acidente            331666 non-null object\ntipo_acidente             331626 non-null object\nclassificacao_acidente    331666 non-null object\nfase_dia                  331666 non-null object\nsentido_via               331666 non-null object\ncondicao_metereologica    331666 non-null object\ntipo_pista                331666 non-null object\ntracado_via               331666 non-null object\nuso_solo                  331666 non-null object\ntipo_veiculo              331666 non-null object\nmarca                     317602 non-null object\nano_fabricacao_veiculo    331666 non-null object\ntipo_envolvido            331666 non-null object\nestado_fisico             331666 non-null object\nidade                     331666 non-null int32\nsexo                      331666 non-null object\nilesos                    331666 non-null int64\nferidos_leves             331666 non-null int64\nferidos_graves            331666 non-null int64\nmortos                    331666 non-null int64\nlatitude                  331666 non-null object\nlongitude                 331666 non-null object\nregional                  331666 non-null object\ndelegacia                 331666 non-null object\ndtypes: int32(1), int64(4), object(27)\nmemory usage: 79.7+ MB\n"
    }
   ],
   "source": [
    "#analise de tipos de dados apos os ajustes\n",
    "dataSource.info()"
   ]
  },
  {
   "cell_type": "markdown",
   "metadata": {},
   "source": [
    "### Parte 1: Análise e visualização de dados - Normalização de dados\n",
    "Existem columas que são binários sendo tratadas como nunéricos, vamos ajustar essas colunas para 'Sim' e 'Não', com isso temos uma visualização mais simples e rápida dos dados.\n",
    "\n"
   ]
  },
  {
   "cell_type": "code",
   "execution_count": 9,
   "metadata": {},
   "outputs": [],
   "source": [
    "colunasParaSimNao = ['ilesos','feridos_leves','feridos_graves','mortos']\n",
    "convertColumnsToYesNo(dataSource, colunasParaSimNao)\n"
   ]
  },
  {
   "cell_type": "markdown",
   "metadata": {},
   "source": [
    "### Parte 1: Análise e visualização de dados - Tipos NULL\n",
    "Encontramos tipos de dados NULL, como 'pesoid' e 'br' que vamos ajustar porteriormente."
   ]
  },
  {
   "cell_type": "code",
   "execution_count": 10,
   "metadata": {},
   "outputs": [
    {
     "output_type": "execute_result",
     "data": {
      "text/plain": "data_inversa                  0\ndia_semana                    0\nhorario                       0\nuf                            0\nbr                          375\nkm                          375\nmunicipio                     0\ncausa_principal               0\ncausa_acidente                0\ntipo_acidente                40\nclassificacao_acidente        0\nfase_dia                      0\nsentido_via                   0\ncondicao_metereologica        0\ntipo_pista                    0\ntracado_via                   0\nuso_solo                      0\ntipo_veiculo                  0\nmarca                     14064\nano_fabricacao_veiculo        0\ntipo_envolvido                0\nestado_fisico                 0\nidade                         0\nsexo                          0\nilesos                        0\nferidos_leves                 0\nferidos_graves                0\nmortos                        0\nlatitude                      0\nlongitude                     0\nregional                      0\ndelegacia                     0\ndtype: int64"
     },
     "metadata": {},
     "execution_count": 10
    }
   ],
   "source": [
    "#analise de dados NULL\n",
    "dataSource.isna().sum()"
   ]
  },
  {
   "cell_type": "code",
   "execution_count": 11,
   "metadata": {},
   "outputs": [],
   "source": [
    "dataSource[\"km\"].fillna(\"\", inplace = True)\n",
    "dataSource[\"br\"].fillna(\"\", inplace = True)\n",
    "dataSource[\"marca\"].fillna(\"\", inplace = True)\n",
    "dataSource[\"tipo_acidente\"].fillna(\"\", inplace = True)"
   ]
  },
  {
   "cell_type": "code",
   "execution_count": 12,
   "metadata": {},
   "outputs": [
    {
     "output_type": "execute_result",
     "data": {
      "text/plain": "data_inversa              0\ndia_semana                0\nhorario                   0\nuf                        0\nbr                        0\nkm                        0\nmunicipio                 0\ncausa_principal           0\ncausa_acidente            0\ntipo_acidente             0\nclassificacao_acidente    0\nfase_dia                  0\nsentido_via               0\ncondicao_metereologica    0\ntipo_pista                0\ntracado_via               0\nuso_solo                  0\ntipo_veiculo              0\nmarca                     0\nano_fabricacao_veiculo    0\ntipo_envolvido            0\nestado_fisico             0\nidade                     0\nsexo                      0\nilesos                    0\nferidos_leves             0\nferidos_graves            0\nmortos                    0\nlatitude                  0\nlongitude                 0\nregional                  0\ndelegacia                 0\ndtype: int64"
     },
     "metadata": {},
     "execution_count": 12
    }
   ],
   "source": [
    "#analise de dados NULL apos os ajustes\n",
    "dataSource.isna().sum()"
   ]
  },
  {
   "cell_type": "markdown",
   "metadata": {},
   "source": [
    "### Parte 1: Análise e visualização de dados - Dados e valores"
   ]
  },
  {
   "cell_type": "code",
   "execution_count": 13,
   "metadata": {},
   "outputs": [],
   "source": [
    "# dataSource['causa_acidente'].value_counts()\n",
    "# dataSource['tipo_acidente'].value_counts()\n",
    "# dataSource['classificacao_acidente'].value_counts()\n",
    "# dataSource['fase_dia'].value_counts()\n",
    "# dataSource['sentido_via'].value_counts()\n",
    "# dataSource['condicao_metereologica'].value_counts()\n",
    "# dataSource['tipo_pista'].value_counts()\n",
    "# dataSource['tracado_via'].value_counts()\n",
    "# dataSource['uso_solo'].value_counts()\n",
    "# dataSource['tipo_veiculo'].value_counts()\n",
    "# dataSource['marca'].value_counts()\n",
    "# dataSource['ano_fabricacao_veiculo'].value_counts()\n",
    "# dataSource['tipo_envolvido'].value_counts()\n",
    "# dataSource['estado_fisico'].value_counts()\n",
    "# dataSource['idade'].value_counts()\n",
    "# dataSource['ilesos'].value_counts()\n",
    "# dataSource['feridos_leves'].value_counts()\n",
    "# dataSource['feridos_graves'].value_counts()\n",
    "# dataSource['mortos'].value_counts()\n",
    "# dataSource['latitude'].value_counts()\n",
    "# dataSource['longitude'].value_counts()\n",
    "# dataSource['regional'].value_counts()\n",
    "# dataSource['delegacia'].value_counts()"
   ]
  },
  {
   "cell_type": "code",
   "execution_count": 14,
   "metadata": {},
   "outputs": [],
   "source": [
    "# dataSource['causa_acidente'].describe()\n",
    "# dataSource['tipo_acidente'].describe()\n",
    "# dataSource['classificacao_acidente'].describe()\n",
    "# dataSource['fase_dia'].describe()\n",
    "# dataSource['sentido_via'].describe()\n",
    "# dataSource['condicao_metereologica'].describe()\n",
    "# dataSource['tipo_pista'].describe()\n",
    "# dataSource['tracado_via'].describe()\n",
    "# dataSource['uso_solo'].describe()\n",
    "# dataSource['tipo_veiculo'].describe()\n",
    "# dataSource['marca'].describe()\n",
    "# dataSource['ano_fabricacao_veiculo'].describe()\n",
    "# dataSource['tipo_envolvido'].describe()\n",
    "# dataSource['estado_fisico'].describe()\n",
    "# dataSource['idade'].describe()\n",
    "# dataSource['ilesos'].describe()\n",
    "# dataSource['feridos_leves'].describe()\n",
    "# dataSource['feridos_graves'].describe()\n",
    "# dataSource['mortos'].describe()\n",
    "# dataSource['latitude'].describe()\n",
    "# dataSource['longitude'].describe()\n",
    "# dataSource['regional'].describe()\n",
    "# dataSource['delegacia'].describe()"
   ]
  },
  {
   "cell_type": "code",
   "execution_count": 15,
   "metadata": {},
   "outputs": [
    {
     "output_type": "execute_result",
     "data": {
      "text/plain": "count    331666\nmean         32\nstd          58\nmin           0\n25%          19\n50%          32\n75%          45\nmax        2018\nName: idade, dtype: int32"
     },
     "metadata": {},
     "execution_count": 15
    }
   ],
   "source": [
    "dataSource['idade'].describe().astype(int)"
   ]
  },
  {
   "cell_type": "code",
   "execution_count": 16,
   "metadata": {},
   "outputs": [
    {
     "output_type": "execute_result",
     "data": {
      "text/plain": "0       62451\n38       7311\n32       7271\n33       7251\n34       7045\n        ...  \n1037        1\n940         1\n952         1\n966         1\n101         1\nName: idade, Length: 122, dtype: int64"
     },
     "metadata": {},
     "execution_count": 16
    }
   ],
   "source": [
    "dataSource['idade'].value_counts()"
   ]
  },
  {
   "cell_type": "markdown",
   "metadata": {},
   "source": [
    "Analisando da idade, encontramos casos onde:\n",
    "-a idade é maior que 90\n",
    "-a idade é menor que 18\n",
    "\n",
    "Esse casos não deverim existir, então vamos aplicar a esses valores a média (que atualmente é 32), porém, como vamos ver mais a frente, existem casos onde temos condutores entre esses intervalos de idade inválidos, então vamos remover esses casos do DataSet.\n",
    " "
   ]
  },
  {
   "cell_type": "code",
   "execution_count": 17,
   "metadata": {},
   "outputs": [],
   "source": [
    "#Analise dos dados de idade\n",
    "idadeCount = dataSource['idade'].value_counts()\n",
    "idadeDescribe = dataSource['idade'].describe()\n",
    "\n",
    "filterMenorIdade = dataSource[\"idade\"] < 18#filtro para os menores de idade\n",
    "filterIdadeMaiorQue = dataSource[\"idade\"] > 90\n",
    "filterTipoEnvolvidoCondutor = dataSource['tipo_envolvido'] == 'Condutor'"
   ]
  },
  {
   "cell_type": "code",
   "execution_count": 18,
   "metadata": {},
   "outputs": [
    {
     "output_type": "execute_result",
     "data": {
      "text/plain": "       data_inversa     dia_semana   horario  uf   br     km  \\\n6        2019-01-01    terça-feira  00:00:00  CE   20  429,5   \n10       2019-01-01    terça-feira  01:30:00  MS  163  721,5   \n11       2019-01-01    terça-feira  01:30:00  MS  163  721,5   \n12       2019-01-01    terça-feira  01:30:00  MS  163  721,5   \n13       2019-01-01    terça-feira  01:30:00  MS  163  721,5   \n...             ...            ...       ...  ..  ...    ...   \n331657   2019-10-07  segunda-feira  09:10:00  ES  101  270,5   \n331658   2019-11-25  segunda-feira  07:20:00  PR  116    125   \n331663   2019-07-13         sábado  19:35:00  PR  373    425   \n331664   2019-07-13         sábado  19:35:00  PR  373    425   \n331665   2019-10-22    terça-feira  20:20:00  BA  324    608   \n\n                 municipio causa_principal  \\\n6                FORTALEZA             Sim   \n10                   COXIM             Sim   \n11                   COXIM             Não   \n12                   COXIM             Sim   \n13                   COXIM             Não   \n...                    ...             ...   \n331657               SERRA             Sim   \n331658  FAZENDA RIO GRANDE             Sim   \n331663              CANDOI             Sim   \n331664              CANDOI             Sim   \n331665        SIMOES FILHO             Sim   \n\n                             causa_acidente                 tipo_acidente  \\\n6       Ingestão de Substâncias Psicoativas   Colisão com objeto estático   \n10                         Animais na Pista     Saída de leito carroçável   \n11                       Ingestão de Álcool     Saída de leito carroçável   \n12                         Animais na Pista       Atropelamento de Animal   \n13                       Ingestão de Álcool       Atropelamento de Animal   \n...                                     ...                           ...   \n331657          Falta de Atenção à Condução                    Tombamento   \n331658          Falta de Atenção à Condução               Colisão lateral   \n331663          Defeito Mecânico no Veículo                   Capotamento   \n331664          Defeito Mecânico no Veículo     Saída de leito carroçável   \n331665                       Defeito na Via  Queda de ocupante de veículo   \n\n        ... idade           sexo ilesos feridos_leves feridos_graves mortos  \\\n6       ...     0       Feminino    Não           Não            Sim    Não   \n10      ...     0  Não Informado    Não           Não            Não    Não   \n11      ...     0  Não Informado    Não           Não            Não    Não   \n12      ...     0  Não Informado    Não           Não            Não    Não   \n13      ...     0  Não Informado    Não           Não            Não    Não   \n...     ...   ...            ...    ...           ...            ...    ...   \n331657  ...     0       Ignorado    Sim           Não            Não    Não   \n331658  ...     0  Não Informado    Não           Não            Não    Não   \n331663  ...     0      Masculino    Não           Não            Sim    Não   \n331664  ...     0      Masculino    Não           Não            Sim    Não   \n331665  ...     0      Masculino    Não           Sim            Não    Não   \n\n            latitude     longitude regional delegacia  \n6           -3,76999    -38,670063    SR-CE   DEL16/1  \n10        -18,575739     -54,76353    SR-MS    DEL3/6  \n11        -18,575739     -54,76353    SR-MS    DEL3/6  \n12        -18,575739     -54,76353    SR-MS    DEL3/6  \n13        -18,575739     -54,76353    SR-MS    DEL3/6  \n...              ...           ...      ...       ...  \n331657  -20,23106874  -40,27387446    SR-ES   DEL12/2  \n331658  -25,59505309  -49,31630659    SR-PR    DEL7/1  \n331663  -25,71180139  -52,18373987    SR-PR    DEL7/3  \n331664  -25,71180139  -52,18373987    SR-PR    DEL7/3  \n331665  -12,78155812  -38,41655733    SR-BA   DEL10/1  \n\n[15444 rows x 32 columns]",
      "text/html": "<div>\n<style scoped>\n    .dataframe tbody tr th:only-of-type {\n        vertical-align: middle;\n    }\n\n    .dataframe tbody tr th {\n        vertical-align: top;\n    }\n\n    .dataframe thead th {\n        text-align: right;\n    }\n</style>\n<table border=\"1\" class=\"dataframe\">\n  <thead>\n    <tr style=\"text-align: right;\">\n      <th></th>\n      <th>data_inversa</th>\n      <th>dia_semana</th>\n      <th>horario</th>\n      <th>uf</th>\n      <th>br</th>\n      <th>km</th>\n      <th>municipio</th>\n      <th>causa_principal</th>\n      <th>causa_acidente</th>\n      <th>tipo_acidente</th>\n      <th>...</th>\n      <th>idade</th>\n      <th>sexo</th>\n      <th>ilesos</th>\n      <th>feridos_leves</th>\n      <th>feridos_graves</th>\n      <th>mortos</th>\n      <th>latitude</th>\n      <th>longitude</th>\n      <th>regional</th>\n      <th>delegacia</th>\n    </tr>\n  </thead>\n  <tbody>\n    <tr>\n      <td>6</td>\n      <td>2019-01-01</td>\n      <td>terça-feira</td>\n      <td>00:00:00</td>\n      <td>CE</td>\n      <td>20</td>\n      <td>429,5</td>\n      <td>FORTALEZA</td>\n      <td>Sim</td>\n      <td>Ingestão de Substâncias Psicoativas</td>\n      <td>Colisão com objeto estático</td>\n      <td>...</td>\n      <td>0</td>\n      <td>Feminino</td>\n      <td>Não</td>\n      <td>Não</td>\n      <td>Sim</td>\n      <td>Não</td>\n      <td>-3,76999</td>\n      <td>-38,670063</td>\n      <td>SR-CE</td>\n      <td>DEL16/1</td>\n    </tr>\n    <tr>\n      <td>10</td>\n      <td>2019-01-01</td>\n      <td>terça-feira</td>\n      <td>01:30:00</td>\n      <td>MS</td>\n      <td>163</td>\n      <td>721,5</td>\n      <td>COXIM</td>\n      <td>Sim</td>\n      <td>Animais na Pista</td>\n      <td>Saída de leito carroçável</td>\n      <td>...</td>\n      <td>0</td>\n      <td>Não Informado</td>\n      <td>Não</td>\n      <td>Não</td>\n      <td>Não</td>\n      <td>Não</td>\n      <td>-18,575739</td>\n      <td>-54,76353</td>\n      <td>SR-MS</td>\n      <td>DEL3/6</td>\n    </tr>\n    <tr>\n      <td>11</td>\n      <td>2019-01-01</td>\n      <td>terça-feira</td>\n      <td>01:30:00</td>\n      <td>MS</td>\n      <td>163</td>\n      <td>721,5</td>\n      <td>COXIM</td>\n      <td>Não</td>\n      <td>Ingestão de Álcool</td>\n      <td>Saída de leito carroçável</td>\n      <td>...</td>\n      <td>0</td>\n      <td>Não Informado</td>\n      <td>Não</td>\n      <td>Não</td>\n      <td>Não</td>\n      <td>Não</td>\n      <td>-18,575739</td>\n      <td>-54,76353</td>\n      <td>SR-MS</td>\n      <td>DEL3/6</td>\n    </tr>\n    <tr>\n      <td>12</td>\n      <td>2019-01-01</td>\n      <td>terça-feira</td>\n      <td>01:30:00</td>\n      <td>MS</td>\n      <td>163</td>\n      <td>721,5</td>\n      <td>COXIM</td>\n      <td>Sim</td>\n      <td>Animais na Pista</td>\n      <td>Atropelamento de Animal</td>\n      <td>...</td>\n      <td>0</td>\n      <td>Não Informado</td>\n      <td>Não</td>\n      <td>Não</td>\n      <td>Não</td>\n      <td>Não</td>\n      <td>-18,575739</td>\n      <td>-54,76353</td>\n      <td>SR-MS</td>\n      <td>DEL3/6</td>\n    </tr>\n    <tr>\n      <td>13</td>\n      <td>2019-01-01</td>\n      <td>terça-feira</td>\n      <td>01:30:00</td>\n      <td>MS</td>\n      <td>163</td>\n      <td>721,5</td>\n      <td>COXIM</td>\n      <td>Não</td>\n      <td>Ingestão de Álcool</td>\n      <td>Atropelamento de Animal</td>\n      <td>...</td>\n      <td>0</td>\n      <td>Não Informado</td>\n      <td>Não</td>\n      <td>Não</td>\n      <td>Não</td>\n      <td>Não</td>\n      <td>-18,575739</td>\n      <td>-54,76353</td>\n      <td>SR-MS</td>\n      <td>DEL3/6</td>\n    </tr>\n    <tr>\n      <td>...</td>\n      <td>...</td>\n      <td>...</td>\n      <td>...</td>\n      <td>...</td>\n      <td>...</td>\n      <td>...</td>\n      <td>...</td>\n      <td>...</td>\n      <td>...</td>\n      <td>...</td>\n      <td>...</td>\n      <td>...</td>\n      <td>...</td>\n      <td>...</td>\n      <td>...</td>\n      <td>...</td>\n      <td>...</td>\n      <td>...</td>\n      <td>...</td>\n      <td>...</td>\n      <td>...</td>\n    </tr>\n    <tr>\n      <td>331657</td>\n      <td>2019-10-07</td>\n      <td>segunda-feira</td>\n      <td>09:10:00</td>\n      <td>ES</td>\n      <td>101</td>\n      <td>270,5</td>\n      <td>SERRA</td>\n      <td>Sim</td>\n      <td>Falta de Atenção à Condução</td>\n      <td>Tombamento</td>\n      <td>...</td>\n      <td>0</td>\n      <td>Ignorado</td>\n      <td>Sim</td>\n      <td>Não</td>\n      <td>Não</td>\n      <td>Não</td>\n      <td>-20,23106874</td>\n      <td>-40,27387446</td>\n      <td>SR-ES</td>\n      <td>DEL12/2</td>\n    </tr>\n    <tr>\n      <td>331658</td>\n      <td>2019-11-25</td>\n      <td>segunda-feira</td>\n      <td>07:20:00</td>\n      <td>PR</td>\n      <td>116</td>\n      <td>125</td>\n      <td>FAZENDA RIO GRANDE</td>\n      <td>Sim</td>\n      <td>Falta de Atenção à Condução</td>\n      <td>Colisão lateral</td>\n      <td>...</td>\n      <td>0</td>\n      <td>Não Informado</td>\n      <td>Não</td>\n      <td>Não</td>\n      <td>Não</td>\n      <td>Não</td>\n      <td>-25,59505309</td>\n      <td>-49,31630659</td>\n      <td>SR-PR</td>\n      <td>DEL7/1</td>\n    </tr>\n    <tr>\n      <td>331663</td>\n      <td>2019-07-13</td>\n      <td>sábado</td>\n      <td>19:35:00</td>\n      <td>PR</td>\n      <td>373</td>\n      <td>425</td>\n      <td>CANDOI</td>\n      <td>Sim</td>\n      <td>Defeito Mecânico no Veículo</td>\n      <td>Capotamento</td>\n      <td>...</td>\n      <td>0</td>\n      <td>Masculino</td>\n      <td>Não</td>\n      <td>Não</td>\n      <td>Sim</td>\n      <td>Não</td>\n      <td>-25,71180139</td>\n      <td>-52,18373987</td>\n      <td>SR-PR</td>\n      <td>DEL7/3</td>\n    </tr>\n    <tr>\n      <td>331664</td>\n      <td>2019-07-13</td>\n      <td>sábado</td>\n      <td>19:35:00</td>\n      <td>PR</td>\n      <td>373</td>\n      <td>425</td>\n      <td>CANDOI</td>\n      <td>Sim</td>\n      <td>Defeito Mecânico no Veículo</td>\n      <td>Saída de leito carroçável</td>\n      <td>...</td>\n      <td>0</td>\n      <td>Masculino</td>\n      <td>Não</td>\n      <td>Não</td>\n      <td>Sim</td>\n      <td>Não</td>\n      <td>-25,71180139</td>\n      <td>-52,18373987</td>\n      <td>SR-PR</td>\n      <td>DEL7/3</td>\n    </tr>\n    <tr>\n      <td>331665</td>\n      <td>2019-10-22</td>\n      <td>terça-feira</td>\n      <td>20:20:00</td>\n      <td>BA</td>\n      <td>324</td>\n      <td>608</td>\n      <td>SIMOES FILHO</td>\n      <td>Sim</td>\n      <td>Defeito na Via</td>\n      <td>Queda de ocupante de veículo</td>\n      <td>...</td>\n      <td>0</td>\n      <td>Masculino</td>\n      <td>Não</td>\n      <td>Sim</td>\n      <td>Não</td>\n      <td>Não</td>\n      <td>-12,78155812</td>\n      <td>-38,41655733</td>\n      <td>SR-BA</td>\n      <td>DEL10/1</td>\n    </tr>\n  </tbody>\n</table>\n<p>15444 rows × 32 columns</p>\n</div>"
     },
     "metadata": {},
     "execution_count": 18
    }
   ],
   "source": [
    "#Condutores menores de idade\n",
    "dataSourceCondutorMenorIdade = dataSource[(filterMenorIdade) & (filterTipoEnvolvidoCondutor)]\n",
    "dataSourceCondutorMenorIdade"
   ]
  },
  {
   "cell_type": "code",
   "execution_count": 19,
   "metadata": {},
   "outputs": [],
   "source": [
    "#Armazenando os indexes das linhas e dropando\n",
    "toDeleteIndex = dataSourceCondutorMenorIdade.index\n",
    "dataSource.drop(toDeleteIndex,axis=0, inplace= True)"
   ]
  },
  {
   "cell_type": "code",
   "execution_count": 20,
   "metadata": {},
   "outputs": [],
   "source": [
    "#\n",
    "dataSourceCondudorIdadeMaiorQue = dataSource[(filterIdadeMaiorQue) & (filterTipoEnvolvidoCondutor)]\n",
    "#dataSourceCondudorIdadeMaiorQue"
   ]
  },
  {
   "cell_type": "code",
   "execution_count": 21,
   "metadata": {},
   "outputs": [],
   "source": [
    "#Armazenando os indexes das linhas e removendo depois\n",
    "toDeleteIndex = dataSourceCondudorIdadeMaiorQue.index\n",
    "dataSource.drop(toDeleteIndex,axis=0, inplace= True)"
   ]
  },
  {
   "cell_type": "code",
   "execution_count": 22,
   "metadata": {},
   "outputs": [],
   "source": [
    "dataSourceIdadeMaiorQue = dataSource[(filterIdadeMaiorQue)]\n",
    "#dataSourceIdadeMaiorQue\n",
    "\n",
    "#ainda temos casos onde a idade é maior que 90, que vamos remover também\n",
    "toDeleteIndex = dataSourceIdadeMaiorQue.index\n",
    "dataSource.drop(toDeleteIndex,axis=0, inplace= True)"
   ]
  },
  {
   "cell_type": "markdown",
   "metadata": {},
   "source": [
    "Apos os ajustes de idade, a média permaneceu nos 32 anos.\n"
   ]
  },
  {
   "cell_type": "code",
   "execution_count": 23,
   "metadata": {},
   "outputs": [
    {
     "output_type": "execute_result",
     "data": {
      "text/plain": "count    315646\nmean         32\nstd          19\nmin           0\n25%          21\n50%          33\n75%          45\nmax          90\nName: idade, dtype: int32"
     },
     "metadata": {},
     "execution_count": 23
    }
   ],
   "source": [
    "dataSource['idade'].describe().astype(int)"
   ]
  },
  {
   "cell_type": "code",
   "execution_count": 24,
   "metadata": {},
   "outputs": [],
   "source": [
    "#vamos ajustar os valores 0 da idade pra a média agora\n",
    "dataSource.loc[dataSource['idade'] < 18, 'idade'] = 32"
   ]
  },
  {
   "cell_type": "code",
   "execution_count": 25,
   "metadata": {},
   "outputs": [],
   "source": [
    "#ajustes nos dados de sexo, trouquei o 'Ignorado' para 'Não Informado'\n",
    "dataSource.loc[dataSource['sexo'] == 'Ignorado', 'sexo'] = 'Não Informado'"
   ]
  },
  {
   "cell_type": "code",
   "execution_count": 26,
   "metadata": {},
   "outputs": [
    {
     "output_type": "stream",
     "name": "stdout",
     "text": "0        8624\n1900       26\n1937        4\n1951        1\n1958        5\n1960        1\n1961        3\n1962        7\n1963        5\n1964       19\n1965        9\n1966       30\n1967        9\n1968       46\n1969       41\n1970       47\n1971       65\n1972       71\n1973      127\n1974      169\n1975      241\n1976      245\n1977      274\n1978      271\n1979      402\n1980      334\n1981      262\n1982      263\n1983      337\n1984      318\n1985      409\n1986      739\n1987      554\n1988      772\n1989      856\n1990      964\n1991     1055\n1992      959\n1993     1501\n1994     1827\n1995     2879\n1996     3015\n1997     3987\n1998     3298\n1999     3159\n2000     4484\n2001     4825\n2002     5372\n2003     5368\n2004     7845\n2005     8306\n2006     9825\n2007    12544\n2008    17168\n2009    15734\n2010    20960\n2011    23073\n2012    21240\n2013    25029\n2014    21732\n2015    15172\n2016    12351\n2017    15351\n2018    21242\n2019     9795\n"
    }
   ],
   "source": [
    "xx = dataSource['ano_fabricacao_veiculo'].value_counts().sort_index()\n",
    "print(xx.to_string())"
   ]
  },
  {
   "cell_type": "code",
   "execution_count": 27,
   "metadata": {},
   "outputs": [],
   "source": [
    "#vou apagar os anos de fabricação do veiculo invalidos, não queria mas não encontrei uma solução para isso\n",
    "dataSourceAnoFricacaoInvalido = dataSource[(dataSource['ano_fabricacao_veiculo'] <= 1917)]\n",
    "\n",
    "toDeleteIndex = dataSourceAnoFricacaoInvalido.index\n",
    "dataSource.drop(toDeleteIndex,axis=0, inplace= True)"
   ]
  },
  {
   "cell_type": "code",
   "execution_count": 29,
   "metadata": {},
   "outputs": [],
   "source": [
    "dataSourceTipoAcidenteInvalido = dataSource[(dataSource[\"tipo_acidente\"] == '')]\n",
    "\n",
    "toDeleteIndex = dataSourceTipoAcidenteInvalido.index\n",
    "dataSource.drop(toDeleteIndex,axis=0, inplace= True)"
   ]
  },
  {
   "cell_type": "markdown",
   "metadata": {},
   "source": [
    "### Salvando os dados tratados em disco\n"
   ]
  },
  {
   "cell_type": "code",
   "execution_count": 30,
   "metadata": {},
   "outputs": [],
   "source": [
    "dataSourceCsv = dataSource.drop(['horario', 'feridos_leves','feridos_graves','mortos','estado_fisico','ilesos','longitude','latitude','regional','delegacia','causa_principal','causa_acidente'], axis=1)\n",
    "csvFileName = \"DataSource/acidentes2019_todas_causas_tipos_encode_tratado.csv\"\n",
    "dataSourceCsv.to_csv(csvFileName, encoding=\"utf-8-sig\", sep = ';')\n"
   ]
  },
  {
   "cell_type": "markdown",
   "metadata": {},
   "source": [
    "### Correlação e visualização\n",
    "\n"
   ]
  },
  {
   "cell_type": "code",
   "execution_count": 31,
   "metadata": {},
   "outputs": [
    {
     "output_type": "execute_result",
     "data": {
      "text/plain": "       data_inversa     dia_semana   horario  uf   br     km  \\\n22693    2019-01-28  segunda-feira  18:40:00  SC  282    377   \n205144   2019-08-27    terça-feira  18:50:00  AP  210      0   \n324351   2019-12-25   quarta-feira  20:20:00  PR  272    371   \n206724   2019-08-29   quinta-feira  19:10:00  PR  376      0   \n68481    2019-03-24        domingo  01:30:00  SP  116  271,9   \n\n                   municipio causa_principal  \\\n22693          HERVAL DOESTE             Sim   \n205144                MACAPA             Sim   \n324351          CAMPO MOURAO             Sim   \n206724  SAO JOSE DOS PINHAIS             Sim   \n68481        TABOAO DA SERRA             Sim   \n\n                                           causa_acidente  \\\n22693                             Velocidade Incompatível   \n205144                        Falta de Atenção à Condução   \n324351  Ingestão de álcool e/ou substâncias psicoativa...   \n206724  Ingestão de álcool e/ou substâncias psicoativa...   \n68481                         Falta de Atenção à Condução   \n\n                    tipo_acidente  ... idade       sexo ilesos feridos_leves  \\\n22693             Colisão frontal  ...    25  Masculino    Sim           Não   \n205144           Colisão traseira  ...    34  Masculino    Não           Sim   \n324351            Colisão frontal  ...    32  Masculino    Não           Sim   \n206724  Atropelamento de Pedestre  ...    49  Masculino    Sim           Não   \n68481             Colisão lateral  ...    33  Masculino    Sim           Não   \n\n       feridos_graves mortos      latitude     longitude regional delegacia  \n22693             Não    Não    -27,216974    -51,470055    SR-SC      DEL7  \n205144            Não    Não    0,07780012     -51,06097    SR-AP  UOP01/AP  \n324351            Não    Não  -24,06673676  -52,43681411    SR-PR    DEL7/4  \n206724            Não    Não      -25,5307      -49,1958    SR-PR    DEL7/1  \n68481             Não    Não  -23,61809286  -46,80556302    SR-SP    DEL6/4  \n\n[5 rows x 32 columns]",
      "text/html": "<div>\n<style scoped>\n    .dataframe tbody tr th:only-of-type {\n        vertical-align: middle;\n    }\n\n    .dataframe tbody tr th {\n        vertical-align: top;\n    }\n\n    .dataframe thead th {\n        text-align: right;\n    }\n</style>\n<table border=\"1\" class=\"dataframe\">\n  <thead>\n    <tr style=\"text-align: right;\">\n      <th></th>\n      <th>data_inversa</th>\n      <th>dia_semana</th>\n      <th>horario</th>\n      <th>uf</th>\n      <th>br</th>\n      <th>km</th>\n      <th>municipio</th>\n      <th>causa_principal</th>\n      <th>causa_acidente</th>\n      <th>tipo_acidente</th>\n      <th>...</th>\n      <th>idade</th>\n      <th>sexo</th>\n      <th>ilesos</th>\n      <th>feridos_leves</th>\n      <th>feridos_graves</th>\n      <th>mortos</th>\n      <th>latitude</th>\n      <th>longitude</th>\n      <th>regional</th>\n      <th>delegacia</th>\n    </tr>\n  </thead>\n  <tbody>\n    <tr>\n      <td>22693</td>\n      <td>2019-01-28</td>\n      <td>segunda-feira</td>\n      <td>18:40:00</td>\n      <td>SC</td>\n      <td>282</td>\n      <td>377</td>\n      <td>HERVAL DOESTE</td>\n      <td>Sim</td>\n      <td>Velocidade Incompatível</td>\n      <td>Colisão frontal</td>\n      <td>...</td>\n      <td>25</td>\n      <td>Masculino</td>\n      <td>Sim</td>\n      <td>Não</td>\n      <td>Não</td>\n      <td>Não</td>\n      <td>-27,216974</td>\n      <td>-51,470055</td>\n      <td>SR-SC</td>\n      <td>DEL7</td>\n    </tr>\n    <tr>\n      <td>205144</td>\n      <td>2019-08-27</td>\n      <td>terça-feira</td>\n      <td>18:50:00</td>\n      <td>AP</td>\n      <td>210</td>\n      <td>0</td>\n      <td>MACAPA</td>\n      <td>Sim</td>\n      <td>Falta de Atenção à Condução</td>\n      <td>Colisão traseira</td>\n      <td>...</td>\n      <td>34</td>\n      <td>Masculino</td>\n      <td>Não</td>\n      <td>Sim</td>\n      <td>Não</td>\n      <td>Não</td>\n      <td>0,07780012</td>\n      <td>-51,06097</td>\n      <td>SR-AP</td>\n      <td>UOP01/AP</td>\n    </tr>\n    <tr>\n      <td>324351</td>\n      <td>2019-12-25</td>\n      <td>quarta-feira</td>\n      <td>20:20:00</td>\n      <td>PR</td>\n      <td>272</td>\n      <td>371</td>\n      <td>CAMPO MOURAO</td>\n      <td>Sim</td>\n      <td>Ingestão de álcool e/ou substâncias psicoativa...</td>\n      <td>Colisão frontal</td>\n      <td>...</td>\n      <td>32</td>\n      <td>Masculino</td>\n      <td>Não</td>\n      <td>Sim</td>\n      <td>Não</td>\n      <td>Não</td>\n      <td>-24,06673676</td>\n      <td>-52,43681411</td>\n      <td>SR-PR</td>\n      <td>DEL7/4</td>\n    </tr>\n    <tr>\n      <td>206724</td>\n      <td>2019-08-29</td>\n      <td>quinta-feira</td>\n      <td>19:10:00</td>\n      <td>PR</td>\n      <td>376</td>\n      <td>0</td>\n      <td>SAO JOSE DOS PINHAIS</td>\n      <td>Sim</td>\n      <td>Ingestão de álcool e/ou substâncias psicoativa...</td>\n      <td>Atropelamento de Pedestre</td>\n      <td>...</td>\n      <td>49</td>\n      <td>Masculino</td>\n      <td>Sim</td>\n      <td>Não</td>\n      <td>Não</td>\n      <td>Não</td>\n      <td>-25,5307</td>\n      <td>-49,1958</td>\n      <td>SR-PR</td>\n      <td>DEL7/1</td>\n    </tr>\n    <tr>\n      <td>68481</td>\n      <td>2019-03-24</td>\n      <td>domingo</td>\n      <td>01:30:00</td>\n      <td>SP</td>\n      <td>116</td>\n      <td>271,9</td>\n      <td>TABOAO DA SERRA</td>\n      <td>Sim</td>\n      <td>Falta de Atenção à Condução</td>\n      <td>Colisão lateral</td>\n      <td>...</td>\n      <td>33</td>\n      <td>Masculino</td>\n      <td>Sim</td>\n      <td>Não</td>\n      <td>Não</td>\n      <td>Não</td>\n      <td>-23,61809286</td>\n      <td>-46,80556302</td>\n      <td>SR-SP</td>\n      <td>DEL6/4</td>\n    </tr>\n  </tbody>\n</table>\n<p>5 rows × 32 columns</p>\n</div>"
     },
     "metadata": {},
     "execution_count": 31
    }
   ],
   "source": [
    "train_set, test_set = train_test_split(dataSource, test_size = 0.2, random_state = 42)\n",
    "train_set.head()"
   ]
  },
  {
   "cell_type": "markdown",
   "metadata": {},
   "source": [
    "### Analise de correlação de dados"
   ]
  },
  {
   "cell_type": "code",
   "execution_count": 42,
   "metadata": {},
   "outputs": [
    {
     "output_type": "display_data",
     "data": {
      "text/plain": "<Figure size 1440x72 with 2 Axes>",
      "image/svg+xml": "<?xml version=\"1.0\" encoding=\"utf-8\" standalone=\"no\"?>\r\n<!DOCTYPE svg PUBLIC \"-//W3C//DTD SVG 1.1//EN\"\r\n  \"http://www.w3.org/Graphics/SVG/1.1/DTD/svg11.dtd\">\r\n<!-- Created with matplotlib (https://matplotlib.org/) -->\r\n<svg height=\"201.160781pt\" version=\"1.1\" viewBox=\"0 0 1005.577375 201.160781\" width=\"1005.577375pt\" xmlns=\"http://www.w3.org/2000/svg\" xmlns:xlink=\"http://www.w3.org/1999/xlink\">\r\n <defs>\r\n  <style type=\"text/css\">\r\n*{stroke-linecap:butt;stroke-linejoin:round;}\r\n  </style>\r\n </defs>\r\n <g id=\"figure_1\">\r\n  <g id=\"patch_1\">\r\n   <path d=\"M 0 201.160781 \r\nL 1005.577375 201.160781 \r\nL 1005.577375 0 \r\nL 0 0 \r\nz\r\n\" style=\"fill:none;\"/>\r\n  </g>\r\n  <g id=\"axes_1\">\r\n   <g id=\"patch_2\">\r\n    <path d=\"M 24.15625 65.359219 \r\nL 916.95625 65.359219 \r\nL 916.95625 10.999219 \r\nL 24.15625 10.999219 \r\nz\r\n\" style=\"fill:#ffffff;\"/>\r\n   </g>\r\n   <g id=\"QuadMesh_1\">\r\n    <path clip-path=\"url(#p71128aca53)\" d=\"M 24.15625 10.999219 \r\nL 68.79625 10.999219 \r\nL 68.79625 65.359219 \r\nL 24.15625 65.359219 \r\nL 24.15625 10.999219 \r\n\" style=\"fill:#0b0920;\"/>\r\n    <path clip-path=\"url(#p71128aca53)\" d=\"M 68.79625 10.999219 \r\nL 113.43625 10.999219 \r\nL 113.43625 65.359219 \r\nL 68.79625 65.359219 \r\nL 68.79625 10.999219 \r\n\" style=\"fill:#03051a;\"/>\r\n    <path clip-path=\"url(#p71128aca53)\" d=\"M 113.43625 10.999219 \r\nL 158.07625 10.999219 \r\nL 158.07625 65.359219 \r\nL 113.43625 65.359219 \r\nL 113.43625 10.999219 \r\n\" style=\"fill:#07071d;\"/>\r\n    <path clip-path=\"url(#p71128aca53)\" d=\"M 158.07625 10.999219 \r\nL 202.71625 10.999219 \r\nL 202.71625 65.359219 \r\nL 158.07625 65.359219 \r\nL 158.07625 10.999219 \r\n\" style=\"fill:#0a091f;\"/>\r\n    <path clip-path=\"url(#p71128aca53)\" d=\"M 202.71625 10.999219 \r\nL 247.35625 10.999219 \r\nL 247.35625 65.359219 \r\nL 202.71625 65.359219 \r\nL 202.71625 10.999219 \r\n\" style=\"fill:#631f53;\"/>\r\n    <path clip-path=\"url(#p71128aca53)\" d=\"M 247.35625 10.999219 \r\nL 291.99625 10.999219 \r\nL 291.99625 65.359219 \r\nL 247.35625 65.359219 \r\nL 247.35625 10.999219 \r\n\" style=\"fill:#35193e;\"/>\r\n    <path clip-path=\"url(#p71128aca53)\" d=\"M 291.99625 10.999219 \r\nL 336.63625 10.999219 \r\nL 336.63625 65.359219 \r\nL 291.99625 65.359219 \r\nL 291.99625 10.999219 \r\n\" style=\"fill:#faebdd;\"/>\r\n    <path clip-path=\"url(#p71128aca53)\" d=\"M 336.63625 10.999219 \r\nL 381.27625 10.999219 \r\nL 381.27625 65.359219 \r\nL 336.63625 65.359219 \r\nL 336.63625 10.999219 \r\n\" style=\"fill:#08081e;\"/>\r\n    <path clip-path=\"url(#p71128aca53)\" d=\"M 381.27625 10.999219 \r\nL 425.91625 10.999219 \r\nL 425.91625 65.359219 \r\nL 381.27625 65.359219 \r\nL 381.27625 10.999219 \r\n\" style=\"fill:#04051a;\"/>\r\n    <path clip-path=\"url(#p71128aca53)\" d=\"M 425.91625 10.999219 \r\nL 470.55625 10.999219 \r\nL 470.55625 65.359219 \r\nL 425.91625 65.359219 \r\nL 425.91625 10.999219 \r\n\" style=\"fill:#03051a;\"/>\r\n    <path clip-path=\"url(#p71128aca53)\" d=\"M 470.55625 10.999219 \r\nL 515.19625 10.999219 \r\nL 515.19625 65.359219 \r\nL 470.55625 65.359219 \r\nL 470.55625 10.999219 \r\n\" style=\"fill:#04051a;\"/>\r\n    <path clip-path=\"url(#p71128aca53)\" d=\"M 515.19625 10.999219 \r\nL 559.83625 10.999219 \r\nL 559.83625 65.359219 \r\nL 515.19625 65.359219 \r\nL 515.19625 10.999219 \r\n\" style=\"fill:#0a091f;\"/>\r\n    <path clip-path=\"url(#p71128aca53)\" d=\"M 559.83625 10.999219 \r\nL 604.47625 10.999219 \r\nL 604.47625 65.359219 \r\nL 559.83625 65.359219 \r\nL 559.83625 10.999219 \r\n\" style=\"fill:#08081e;\"/>\r\n    <path clip-path=\"url(#p71128aca53)\" d=\"M 604.47625 10.999219 \r\nL 649.11625 10.999219 \r\nL 649.11625 65.359219 \r\nL 604.47625 65.359219 \r\nL 604.47625 10.999219 \r\n\" style=\"fill:#08081e;\"/>\r\n    <path clip-path=\"url(#p71128aca53)\" d=\"M 649.11625 10.999219 \r\nL 693.75625 10.999219 \r\nL 693.75625 65.359219 \r\nL 649.11625 65.359219 \r\nL 649.11625 10.999219 \r\n\" style=\"fill:#110c24;\"/>\r\n    <path clip-path=\"url(#p71128aca53)\" d=\"M 693.75625 10.999219 \r\nL 738.39625 10.999219 \r\nL 738.39625 65.359219 \r\nL 693.75625 65.359219 \r\nL 693.75625 10.999219 \r\n\" style=\"fill:#381a40;\"/>\r\n    <path clip-path=\"url(#p71128aca53)\" d=\"M 738.39625 10.999219 \r\nL 783.03625 10.999219 \r\nL 783.03625 65.359219 \r\nL 738.39625 65.359219 \r\nL 738.39625 10.999219 \r\n\" style=\"fill:#03051a;\"/>\r\n    <path clip-path=\"url(#p71128aca53)\" d=\"M 783.03625 10.999219 \r\nL 827.67625 10.999219 \r\nL 827.67625 65.359219 \r\nL 783.03625 65.359219 \r\nL 783.03625 10.999219 \r\n\" style=\"fill:#0b0920;\"/>\r\n    <path clip-path=\"url(#p71128aca53)\" d=\"M 827.67625 10.999219 \r\nL 872.31625 10.999219 \r\nL 872.31625 65.359219 \r\nL 827.67625 65.359219 \r\nL 827.67625 10.999219 \r\n\" style=\"fill:#04051a;\"/>\r\n    <path clip-path=\"url(#p71128aca53)\" d=\"M 872.31625 10.999219 \r\nL 916.95625 10.999219 \r\nL 916.95625 65.359219 \r\nL 872.31625 65.359219 \r\nL 872.31625 10.999219 \r\n\" style=\"fill:#04051a;\"/>\r\n   </g>\r\n   <g id=\"matplotlib.axis_1\">\r\n    <g id=\"xtick_1\">\r\n     <g id=\"line2d_1\">\r\n      <defs>\r\n       <path d=\"M 0 0 \r\nL 0 3.5 \r\n\" id=\"m1dbaf636b5\" style=\"stroke:#000000;stroke-width:0.8;\"/>\r\n      </defs>\r\n      <g>\r\n       <use style=\"stroke:#000000;stroke-width:0.8;\" x=\"46.47625\" xlink:href=\"#m1dbaf636b5\" y=\"65.359219\"/>\r\n      </g>\r\n     </g>\r\n     <g id=\"text_1\">\r\n      <!-- data_inversa -->\r\n      <defs>\r\n       <path d=\"M 45.40625 46.390625 \r\nL 45.40625 75.984375 \r\nL 54.390625 75.984375 \r\nL 54.390625 0 \r\nL 45.40625 0 \r\nL 45.40625 8.203125 \r\nQ 42.578125 3.328125 38.25 0.953125 \r\nQ 33.9375 -1.421875 27.875 -1.421875 \r\nQ 17.96875 -1.421875 11.734375 6.484375 \r\nQ 5.515625 14.40625 5.515625 27.296875 \r\nQ 5.515625 40.1875 11.734375 48.09375 \r\nQ 17.96875 56 27.875 56 \r\nQ 33.9375 56 38.25 53.625 \r\nQ 42.578125 51.265625 45.40625 46.390625 \r\nz\r\nM 14.796875 27.296875 \r\nQ 14.796875 17.390625 18.875 11.75 \r\nQ 22.953125 6.109375 30.078125 6.109375 \r\nQ 37.203125 6.109375 41.296875 11.75 \r\nQ 45.40625 17.390625 45.40625 27.296875 \r\nQ 45.40625 37.203125 41.296875 42.84375 \r\nQ 37.203125 48.484375 30.078125 48.484375 \r\nQ 22.953125 48.484375 18.875 42.84375 \r\nQ 14.796875 37.203125 14.796875 27.296875 \r\nz\r\n\" id=\"DejaVuSans-100\"/>\r\n       <path d=\"M 34.28125 27.484375 \r\nQ 23.390625 27.484375 19.1875 25 \r\nQ 14.984375 22.515625 14.984375 16.5 \r\nQ 14.984375 11.71875 18.140625 8.90625 \r\nQ 21.296875 6.109375 26.703125 6.109375 \r\nQ 34.1875 6.109375 38.703125 11.40625 \r\nQ 43.21875 16.703125 43.21875 25.484375 \r\nL 43.21875 27.484375 \r\nz\r\nM 52.203125 31.203125 \r\nL 52.203125 0 \r\nL 43.21875 0 \r\nL 43.21875 8.296875 \r\nQ 40.140625 3.328125 35.546875 0.953125 \r\nQ 30.953125 -1.421875 24.3125 -1.421875 \r\nQ 15.921875 -1.421875 10.953125 3.296875 \r\nQ 6 8.015625 6 15.921875 \r\nQ 6 25.140625 12.171875 29.828125 \r\nQ 18.359375 34.515625 30.609375 34.515625 \r\nL 43.21875 34.515625 \r\nL 43.21875 35.40625 \r\nQ 43.21875 41.609375 39.140625 45 \r\nQ 35.0625 48.390625 27.6875 48.390625 \r\nQ 23 48.390625 18.546875 47.265625 \r\nQ 14.109375 46.140625 10.015625 43.890625 \r\nL 10.015625 52.203125 \r\nQ 14.9375 54.109375 19.578125 55.046875 \r\nQ 24.21875 56 28.609375 56 \r\nQ 40.484375 56 46.34375 49.84375 \r\nQ 52.203125 43.703125 52.203125 31.203125 \r\nz\r\n\" id=\"DejaVuSans-97\"/>\r\n       <path d=\"M 18.3125 70.21875 \r\nL 18.3125 54.6875 \r\nL 36.8125 54.6875 \r\nL 36.8125 47.703125 \r\nL 18.3125 47.703125 \r\nL 18.3125 18.015625 \r\nQ 18.3125 11.328125 20.140625 9.421875 \r\nQ 21.96875 7.515625 27.59375 7.515625 \r\nL 36.8125 7.515625 \r\nL 36.8125 0 \r\nL 27.59375 0 \r\nQ 17.1875 0 13.234375 3.875 \r\nQ 9.28125 7.765625 9.28125 18.015625 \r\nL 9.28125 47.703125 \r\nL 2.6875 47.703125 \r\nL 2.6875 54.6875 \r\nL 9.28125 54.6875 \r\nL 9.28125 70.21875 \r\nz\r\n\" id=\"DejaVuSans-116\"/>\r\n       <path d=\"M 50.984375 -16.609375 \r\nL 50.984375 -23.578125 \r\nL -0.984375 -23.578125 \r\nL -0.984375 -16.609375 \r\nz\r\n\" id=\"DejaVuSans-95\"/>\r\n       <path d=\"M 9.421875 54.6875 \r\nL 18.40625 54.6875 \r\nL 18.40625 0 \r\nL 9.421875 0 \r\nz\r\nM 9.421875 75.984375 \r\nL 18.40625 75.984375 \r\nL 18.40625 64.59375 \r\nL 9.421875 64.59375 \r\nz\r\n\" id=\"DejaVuSans-105\"/>\r\n       <path d=\"M 54.890625 33.015625 \r\nL 54.890625 0 \r\nL 45.90625 0 \r\nL 45.90625 32.71875 \r\nQ 45.90625 40.484375 42.875 44.328125 \r\nQ 39.84375 48.1875 33.796875 48.1875 \r\nQ 26.515625 48.1875 22.3125 43.546875 \r\nQ 18.109375 38.921875 18.109375 30.90625 \r\nL 18.109375 0 \r\nL 9.078125 0 \r\nL 9.078125 54.6875 \r\nL 18.109375 54.6875 \r\nL 18.109375 46.1875 \r\nQ 21.34375 51.125 25.703125 53.5625 \r\nQ 30.078125 56 35.796875 56 \r\nQ 45.21875 56 50.046875 50.171875 \r\nQ 54.890625 44.34375 54.890625 33.015625 \r\nz\r\n\" id=\"DejaVuSans-110\"/>\r\n       <path d=\"M 2.984375 54.6875 \r\nL 12.5 54.6875 \r\nL 29.59375 8.796875 \r\nL 46.6875 54.6875 \r\nL 56.203125 54.6875 \r\nL 35.6875 0 \r\nL 23.484375 0 \r\nz\r\n\" id=\"DejaVuSans-118\"/>\r\n       <path d=\"M 56.203125 29.59375 \r\nL 56.203125 25.203125 \r\nL 14.890625 25.203125 \r\nQ 15.484375 15.921875 20.484375 11.0625 \r\nQ 25.484375 6.203125 34.421875 6.203125 \r\nQ 39.59375 6.203125 44.453125 7.46875 \r\nQ 49.3125 8.734375 54.109375 11.28125 \r\nL 54.109375 2.78125 \r\nQ 49.265625 0.734375 44.1875 -0.34375 \r\nQ 39.109375 -1.421875 33.890625 -1.421875 \r\nQ 20.796875 -1.421875 13.15625 6.1875 \r\nQ 5.515625 13.8125 5.515625 26.8125 \r\nQ 5.515625 40.234375 12.765625 48.109375 \r\nQ 20.015625 56 32.328125 56 \r\nQ 43.359375 56 49.78125 48.890625 \r\nQ 56.203125 41.796875 56.203125 29.59375 \r\nz\r\nM 47.21875 32.234375 \r\nQ 47.125 39.59375 43.09375 43.984375 \r\nQ 39.0625 48.390625 32.421875 48.390625 \r\nQ 24.90625 48.390625 20.390625 44.140625 \r\nQ 15.875 39.890625 15.1875 32.171875 \r\nz\r\n\" id=\"DejaVuSans-101\"/>\r\n       <path d=\"M 41.109375 46.296875 \r\nQ 39.59375 47.171875 37.8125 47.578125 \r\nQ 36.03125 48 33.890625 48 \r\nQ 26.265625 48 22.1875 43.046875 \r\nQ 18.109375 38.09375 18.109375 28.8125 \r\nL 18.109375 0 \r\nL 9.078125 0 \r\nL 9.078125 54.6875 \r\nL 18.109375 54.6875 \r\nL 18.109375 46.1875 \r\nQ 20.953125 51.171875 25.484375 53.578125 \r\nQ 30.03125 56 36.53125 56 \r\nQ 37.453125 56 38.578125 55.875 \r\nQ 39.703125 55.765625 41.0625 55.515625 \r\nz\r\n\" id=\"DejaVuSans-114\"/>\r\n       <path d=\"M 44.28125 53.078125 \r\nL 44.28125 44.578125 \r\nQ 40.484375 46.53125 36.375 47.5 \r\nQ 32.28125 48.484375 27.875 48.484375 \r\nQ 21.1875 48.484375 17.84375 46.4375 \r\nQ 14.5 44.390625 14.5 40.28125 \r\nQ 14.5 37.15625 16.890625 35.375 \r\nQ 19.28125 33.59375 26.515625 31.984375 \r\nL 29.59375 31.296875 \r\nQ 39.15625 29.25 43.1875 25.515625 \r\nQ 47.21875 21.78125 47.21875 15.09375 \r\nQ 47.21875 7.46875 41.1875 3.015625 \r\nQ 35.15625 -1.421875 24.609375 -1.421875 \r\nQ 20.21875 -1.421875 15.453125 -0.5625 \r\nQ 10.6875 0.296875 5.421875 2 \r\nL 5.421875 11.28125 \r\nQ 10.40625 8.6875 15.234375 7.390625 \r\nQ 20.0625 6.109375 24.8125 6.109375 \r\nQ 31.15625 6.109375 34.5625 8.28125 \r\nQ 37.984375 10.453125 37.984375 14.40625 \r\nQ 37.984375 18.0625 35.515625 20.015625 \r\nQ 33.0625 21.96875 24.703125 23.78125 \r\nL 21.578125 24.515625 \r\nQ 13.234375 26.265625 9.515625 29.90625 \r\nQ 5.8125 33.546875 5.8125 39.890625 \r\nQ 5.8125 47.609375 11.28125 51.796875 \r\nQ 16.75 56 26.8125 56 \r\nQ 31.78125 56 36.171875 55.265625 \r\nQ 40.578125 54.546875 44.28125 53.078125 \r\nz\r\n\" id=\"DejaVuSans-115\"/>\r\n      </defs>\r\n      <g transform=\"translate(49.096563 136.520156)rotate(-90)scale(0.1 -0.1)\">\r\n       <use xlink:href=\"#DejaVuSans-100\"/>\r\n       <use x=\"63.476562\" xlink:href=\"#DejaVuSans-97\"/>\r\n       <use x=\"124.755859\" xlink:href=\"#DejaVuSans-116\"/>\r\n       <use x=\"163.964844\" xlink:href=\"#DejaVuSans-97\"/>\r\n       <use x=\"225.244141\" xlink:href=\"#DejaVuSans-95\"/>\r\n       <use x=\"275.244141\" xlink:href=\"#DejaVuSans-105\"/>\r\n       <use x=\"303.027344\" xlink:href=\"#DejaVuSans-110\"/>\r\n       <use x=\"366.40625\" xlink:href=\"#DejaVuSans-118\"/>\r\n       <use x=\"425.585938\" xlink:href=\"#DejaVuSans-101\"/>\r\n       <use x=\"487.109375\" xlink:href=\"#DejaVuSans-114\"/>\r\n       <use x=\"528.222656\" xlink:href=\"#DejaVuSans-115\"/>\r\n       <use x=\"580.322266\" xlink:href=\"#DejaVuSans-97\"/>\r\n      </g>\r\n     </g>\r\n    </g>\r\n    <g id=\"xtick_2\">\r\n     <g id=\"line2d_2\">\r\n      <g>\r\n       <use style=\"stroke:#000000;stroke-width:0.8;\" x=\"91.11625\" xlink:href=\"#m1dbaf636b5\" y=\"65.359219\"/>\r\n      </g>\r\n     </g>\r\n     <g id=\"text_2\">\r\n      <!-- dia_semana -->\r\n      <defs>\r\n       <path d=\"M 52 44.1875 \r\nQ 55.375 50.25 60.0625 53.125 \r\nQ 64.75 56 71.09375 56 \r\nQ 79.640625 56 84.28125 50.015625 \r\nQ 88.921875 44.046875 88.921875 33.015625 \r\nL 88.921875 0 \r\nL 79.890625 0 \r\nL 79.890625 32.71875 \r\nQ 79.890625 40.578125 77.09375 44.375 \r\nQ 74.3125 48.1875 68.609375 48.1875 \r\nQ 61.625 48.1875 57.5625 43.546875 \r\nQ 53.515625 38.921875 53.515625 30.90625 \r\nL 53.515625 0 \r\nL 44.484375 0 \r\nL 44.484375 32.71875 \r\nQ 44.484375 40.625 41.703125 44.40625 \r\nQ 38.921875 48.1875 33.109375 48.1875 \r\nQ 26.21875 48.1875 22.15625 43.53125 \r\nQ 18.109375 38.875 18.109375 30.90625 \r\nL 18.109375 0 \r\nL 9.078125 0 \r\nL 9.078125 54.6875 \r\nL 18.109375 54.6875 \r\nL 18.109375 46.1875 \r\nQ 21.1875 51.21875 25.484375 53.609375 \r\nQ 29.78125 56 35.6875 56 \r\nQ 41.65625 56 45.828125 52.96875 \r\nQ 50 49.953125 52 44.1875 \r\nz\r\n\" id=\"DejaVuSans-109\"/>\r\n      </defs>\r\n      <g transform=\"translate(93.736563 132.310781)rotate(-90)scale(0.1 -0.1)\">\r\n       <use xlink:href=\"#DejaVuSans-100\"/>\r\n       <use x=\"63.476562\" xlink:href=\"#DejaVuSans-105\"/>\r\n       <use x=\"91.259766\" xlink:href=\"#DejaVuSans-97\"/>\r\n       <use x=\"152.539062\" xlink:href=\"#DejaVuSans-95\"/>\r\n       <use x=\"202.539062\" xlink:href=\"#DejaVuSans-115\"/>\r\n       <use x=\"254.638672\" xlink:href=\"#DejaVuSans-101\"/>\r\n       <use x=\"316.162109\" xlink:href=\"#DejaVuSans-109\"/>\r\n       <use x=\"413.574219\" xlink:href=\"#DejaVuSans-97\"/>\r\n       <use x=\"474.853516\" xlink:href=\"#DejaVuSans-110\"/>\r\n       <use x=\"538.232422\" xlink:href=\"#DejaVuSans-97\"/>\r\n      </g>\r\n     </g>\r\n    </g>\r\n    <g id=\"xtick_3\">\r\n     <g id=\"line2d_3\">\r\n      <g>\r\n       <use style=\"stroke:#000000;stroke-width:0.8;\" x=\"135.75625\" xlink:href=\"#m1dbaf636b5\" y=\"65.359219\"/>\r\n      </g>\r\n     </g>\r\n     <g id=\"text_3\">\r\n      <!-- uf -->\r\n      <defs>\r\n       <path d=\"M 8.5 21.578125 \r\nL 8.5 54.6875 \r\nL 17.484375 54.6875 \r\nL 17.484375 21.921875 \r\nQ 17.484375 14.15625 20.5 10.265625 \r\nQ 23.53125 6.390625 29.59375 6.390625 \r\nQ 36.859375 6.390625 41.078125 11.03125 \r\nQ 45.3125 15.671875 45.3125 23.6875 \r\nL 45.3125 54.6875 \r\nL 54.296875 54.6875 \r\nL 54.296875 0 \r\nL 45.3125 0 \r\nL 45.3125 8.40625 \r\nQ 42.046875 3.421875 37.71875 1 \r\nQ 33.40625 -1.421875 27.6875 -1.421875 \r\nQ 18.265625 -1.421875 13.375 4.4375 \r\nQ 8.5 10.296875 8.5 21.578125 \r\nz\r\nM 31.109375 56 \r\nz\r\n\" id=\"DejaVuSans-117\"/>\r\n       <path d=\"M 37.109375 75.984375 \r\nL 37.109375 68.5 \r\nL 28.515625 68.5 \r\nQ 23.6875 68.5 21.796875 66.546875 \r\nQ 19.921875 64.59375 19.921875 59.515625 \r\nL 19.921875 54.6875 \r\nL 34.71875 54.6875 \r\nL 34.71875 47.703125 \r\nL 19.921875 47.703125 \r\nL 19.921875 0 \r\nL 10.890625 0 \r\nL 10.890625 47.703125 \r\nL 2.296875 47.703125 \r\nL 2.296875 54.6875 \r\nL 10.890625 54.6875 \r\nL 10.890625 58.5 \r\nQ 10.890625 67.625 15.140625 71.796875 \r\nQ 19.390625 75.984375 28.609375 75.984375 \r\nz\r\n\" id=\"DejaVuSans-102\"/>\r\n      </defs>\r\n      <g transform=\"translate(138.515625 82.217031)rotate(-90)scale(0.1 -0.1)\">\r\n       <use xlink:href=\"#DejaVuSans-117\"/>\r\n       <use x=\"63.378906\" xlink:href=\"#DejaVuSans-102\"/>\r\n      </g>\r\n     </g>\r\n    </g>\r\n    <g id=\"xtick_4\">\r\n     <g id=\"line2d_4\">\r\n      <g>\r\n       <use style=\"stroke:#000000;stroke-width:0.8;\" x=\"180.39625\" xlink:href=\"#m1dbaf636b5\" y=\"65.359219\"/>\r\n      </g>\r\n     </g>\r\n     <g id=\"text_4\">\r\n      <!-- br -->\r\n      <defs>\r\n       <path d=\"M 48.6875 27.296875 \r\nQ 48.6875 37.203125 44.609375 42.84375 \r\nQ 40.53125 48.484375 33.40625 48.484375 \r\nQ 26.265625 48.484375 22.1875 42.84375 \r\nQ 18.109375 37.203125 18.109375 27.296875 \r\nQ 18.109375 17.390625 22.1875 11.75 \r\nQ 26.265625 6.109375 33.40625 6.109375 \r\nQ 40.53125 6.109375 44.609375 11.75 \r\nQ 48.6875 17.390625 48.6875 27.296875 \r\nz\r\nM 18.109375 46.390625 \r\nQ 20.953125 51.265625 25.265625 53.625 \r\nQ 29.59375 56 35.59375 56 \r\nQ 45.5625 56 51.78125 48.09375 \r\nQ 58.015625 40.1875 58.015625 27.296875 \r\nQ 58.015625 14.40625 51.78125 6.484375 \r\nQ 45.5625 -1.421875 35.59375 -1.421875 \r\nQ 29.59375 -1.421875 25.265625 0.953125 \r\nQ 20.953125 3.328125 18.109375 8.203125 \r\nL 18.109375 0 \r\nL 9.078125 0 \r\nL 9.078125 75.984375 \r\nL 18.109375 75.984375 \r\nz\r\n\" id=\"DejaVuSans-98\"/>\r\n      </defs>\r\n      <g transform=\"translate(183.155625 82.818594)rotate(-90)scale(0.1 -0.1)\">\r\n       <use xlink:href=\"#DejaVuSans-98\"/>\r\n       <use x=\"63.476562\" xlink:href=\"#DejaVuSans-114\"/>\r\n      </g>\r\n     </g>\r\n    </g>\r\n    <g id=\"xtick_5\">\r\n     <g id=\"line2d_5\">\r\n      <g>\r\n       <use style=\"stroke:#000000;stroke-width:0.8;\" x=\"225.03625\" xlink:href=\"#m1dbaf636b5\" y=\"65.359219\"/>\r\n      </g>\r\n     </g>\r\n     <g id=\"text_5\">\r\n      <!-- km -->\r\n      <defs>\r\n       <path d=\"M 9.078125 75.984375 \r\nL 18.109375 75.984375 \r\nL 18.109375 31.109375 \r\nL 44.921875 54.6875 \r\nL 56.390625 54.6875 \r\nL 27.390625 29.109375 \r\nL 57.625 0 \r\nL 45.90625 0 \r\nL 18.109375 26.703125 \r\nL 18.109375 0 \r\nL 9.078125 0 \r\nz\r\n\" id=\"DejaVuSans-107\"/>\r\n      </defs>\r\n      <g transform=\"translate(227.795625 87.890469)rotate(-90)scale(0.1 -0.1)\">\r\n       <use xlink:href=\"#DejaVuSans-107\"/>\r\n       <use x=\"57.910156\" xlink:href=\"#DejaVuSans-109\"/>\r\n      </g>\r\n     </g>\r\n    </g>\r\n    <g id=\"xtick_6\">\r\n     <g id=\"line2d_6\">\r\n      <g>\r\n       <use style=\"stroke:#000000;stroke-width:0.8;\" x=\"269.67625\" xlink:href=\"#m1dbaf636b5\" y=\"65.359219\"/>\r\n      </g>\r\n     </g>\r\n     <g id=\"text_6\">\r\n      <!-- municipio -->\r\n      <defs>\r\n       <path d=\"M 48.78125 52.59375 \r\nL 48.78125 44.1875 \r\nQ 44.96875 46.296875 41.140625 47.34375 \r\nQ 37.3125 48.390625 33.40625 48.390625 \r\nQ 24.65625 48.390625 19.8125 42.84375 \r\nQ 14.984375 37.3125 14.984375 27.296875 \r\nQ 14.984375 17.28125 19.8125 11.734375 \r\nQ 24.65625 6.203125 33.40625 6.203125 \r\nQ 37.3125 6.203125 41.140625 7.25 \r\nQ 44.96875 8.296875 48.78125 10.40625 \r\nL 48.78125 2.09375 \r\nQ 45.015625 0.34375 40.984375 -0.53125 \r\nQ 36.96875 -1.421875 32.421875 -1.421875 \r\nQ 20.0625 -1.421875 12.78125 6.34375 \r\nQ 5.515625 14.109375 5.515625 27.296875 \r\nQ 5.515625 40.671875 12.859375 48.328125 \r\nQ 20.21875 56 33.015625 56 \r\nQ 37.15625 56 41.109375 55.140625 \r\nQ 45.0625 54.296875 48.78125 52.59375 \r\nz\r\n\" id=\"DejaVuSans-99\"/>\r\n       <path d=\"M 18.109375 8.203125 \r\nL 18.109375 -20.796875 \r\nL 9.078125 -20.796875 \r\nL 9.078125 54.6875 \r\nL 18.109375 54.6875 \r\nL 18.109375 46.390625 \r\nQ 20.953125 51.265625 25.265625 53.625 \r\nQ 29.59375 56 35.59375 56 \r\nQ 45.5625 56 51.78125 48.09375 \r\nQ 58.015625 40.1875 58.015625 27.296875 \r\nQ 58.015625 14.40625 51.78125 6.484375 \r\nQ 45.5625 -1.421875 35.59375 -1.421875 \r\nQ 29.59375 -1.421875 25.265625 0.953125 \r\nQ 20.953125 3.328125 18.109375 8.203125 \r\nz\r\nM 48.6875 27.296875 \r\nQ 48.6875 37.203125 44.609375 42.84375 \r\nQ 40.53125 48.484375 33.40625 48.484375 \r\nQ 26.265625 48.484375 22.1875 42.84375 \r\nQ 18.109375 37.203125 18.109375 27.296875 \r\nQ 18.109375 17.390625 22.1875 11.75 \r\nQ 26.265625 6.109375 33.40625 6.109375 \r\nQ 40.53125 6.109375 44.609375 11.75 \r\nQ 48.6875 17.390625 48.6875 27.296875 \r\nz\r\n\" id=\"DejaVuSans-112\"/>\r\n       <path d=\"M 30.609375 48.390625 \r\nQ 23.390625 48.390625 19.1875 42.75 \r\nQ 14.984375 37.109375 14.984375 27.296875 \r\nQ 14.984375 17.484375 19.15625 11.84375 \r\nQ 23.34375 6.203125 30.609375 6.203125 \r\nQ 37.796875 6.203125 41.984375 11.859375 \r\nQ 46.1875 17.53125 46.1875 27.296875 \r\nQ 46.1875 37.015625 41.984375 42.703125 \r\nQ 37.796875 48.390625 30.609375 48.390625 \r\nz\r\nM 30.609375 56 \r\nQ 42.328125 56 49.015625 48.375 \r\nQ 55.71875 40.765625 55.71875 27.296875 \r\nQ 55.71875 13.875 49.015625 6.21875 \r\nQ 42.328125 -1.421875 30.609375 -1.421875 \r\nQ 18.84375 -1.421875 12.171875 6.21875 \r\nQ 5.515625 13.875 5.515625 27.296875 \r\nQ 5.515625 40.765625 12.171875 48.375 \r\nQ 18.84375 56 30.609375 56 \r\nz\r\n\" id=\"DejaVuSans-111\"/>\r\n      </defs>\r\n      <g transform=\"translate(272.435625 121.074844)rotate(-90)scale(0.1 -0.1)\">\r\n       <use xlink:href=\"#DejaVuSans-109\"/>\r\n       <use x=\"97.412109\" xlink:href=\"#DejaVuSans-117\"/>\r\n       <use x=\"160.791016\" xlink:href=\"#DejaVuSans-110\"/>\r\n       <use x=\"224.169922\" xlink:href=\"#DejaVuSans-105\"/>\r\n       <use x=\"251.953125\" xlink:href=\"#DejaVuSans-99\"/>\r\n       <use x=\"306.933594\" xlink:href=\"#DejaVuSans-105\"/>\r\n       <use x=\"334.716797\" xlink:href=\"#DejaVuSans-112\"/>\r\n       <use x=\"398.193359\" xlink:href=\"#DejaVuSans-105\"/>\r\n       <use x=\"425.976562\" xlink:href=\"#DejaVuSans-111\"/>\r\n      </g>\r\n     </g>\r\n    </g>\r\n    <g id=\"xtick_7\">\r\n     <g id=\"line2d_7\">\r\n      <g>\r\n       <use style=\"stroke:#000000;stroke-width:0.8;\" x=\"314.31625\" xlink:href=\"#m1dbaf636b5\" y=\"65.359219\"/>\r\n      </g>\r\n     </g>\r\n     <g id=\"text_7\">\r\n      <!-- tipo_acidente -->\r\n      <g transform=\"translate(316.936563 139.842031)rotate(-90)scale(0.1 -0.1)\">\r\n       <use xlink:href=\"#DejaVuSans-116\"/>\r\n       <use x=\"39.208984\" xlink:href=\"#DejaVuSans-105\"/>\r\n       <use x=\"66.992188\" xlink:href=\"#DejaVuSans-112\"/>\r\n       <use x=\"130.46875\" xlink:href=\"#DejaVuSans-111\"/>\r\n       <use x=\"191.650391\" xlink:href=\"#DejaVuSans-95\"/>\r\n       <use x=\"241.650391\" xlink:href=\"#DejaVuSans-97\"/>\r\n       <use x=\"302.929688\" xlink:href=\"#DejaVuSans-99\"/>\r\n       <use x=\"357.910156\" xlink:href=\"#DejaVuSans-105\"/>\r\n       <use x=\"385.693359\" xlink:href=\"#DejaVuSans-100\"/>\r\n       <use x=\"449.169922\" xlink:href=\"#DejaVuSans-101\"/>\r\n       <use x=\"510.693359\" xlink:href=\"#DejaVuSans-110\"/>\r\n       <use x=\"574.072266\" xlink:href=\"#DejaVuSans-116\"/>\r\n       <use x=\"613.28125\" xlink:href=\"#DejaVuSans-101\"/>\r\n      </g>\r\n     </g>\r\n    </g>\r\n    <g id=\"xtick_8\">\r\n     <g id=\"line2d_8\">\r\n      <g>\r\n       <use style=\"stroke:#000000;stroke-width:0.8;\" x=\"358.95625\" xlink:href=\"#m1dbaf636b5\" y=\"65.359219\"/>\r\n      </g>\r\n     </g>\r\n     <g id=\"text_8\">\r\n      <!-- classificacao_acidente -->\r\n      <defs>\r\n       <path d=\"M 9.421875 75.984375 \r\nL 18.40625 75.984375 \r\nL 18.40625 0 \r\nL 9.421875 0 \r\nz\r\n\" id=\"DejaVuSans-108\"/>\r\n      </defs>\r\n      <g transform=\"translate(361.576563 183.948281)rotate(-90)scale(0.1 -0.1)\">\r\n       <use xlink:href=\"#DejaVuSans-99\"/>\r\n       <use x=\"54.980469\" xlink:href=\"#DejaVuSans-108\"/>\r\n       <use x=\"82.763672\" xlink:href=\"#DejaVuSans-97\"/>\r\n       <use x=\"144.042969\" xlink:href=\"#DejaVuSans-115\"/>\r\n       <use x=\"196.142578\" xlink:href=\"#DejaVuSans-115\"/>\r\n       <use x=\"248.242188\" xlink:href=\"#DejaVuSans-105\"/>\r\n       <use x=\"276.025391\" xlink:href=\"#DejaVuSans-102\"/>\r\n       <use x=\"311.230469\" xlink:href=\"#DejaVuSans-105\"/>\r\n       <use x=\"339.013672\" xlink:href=\"#DejaVuSans-99\"/>\r\n       <use x=\"393.994141\" xlink:href=\"#DejaVuSans-97\"/>\r\n       <use x=\"455.273438\" xlink:href=\"#DejaVuSans-99\"/>\r\n       <use x=\"510.253906\" xlink:href=\"#DejaVuSans-97\"/>\r\n       <use x=\"571.533203\" xlink:href=\"#DejaVuSans-111\"/>\r\n       <use x=\"632.714844\" xlink:href=\"#DejaVuSans-95\"/>\r\n       <use x=\"682.714844\" xlink:href=\"#DejaVuSans-97\"/>\r\n       <use x=\"743.994141\" xlink:href=\"#DejaVuSans-99\"/>\r\n       <use x=\"798.974609\" xlink:href=\"#DejaVuSans-105\"/>\r\n       <use x=\"826.757812\" xlink:href=\"#DejaVuSans-100\"/>\r\n       <use x=\"890.234375\" xlink:href=\"#DejaVuSans-101\"/>\r\n       <use x=\"951.757812\" xlink:href=\"#DejaVuSans-110\"/>\r\n       <use x=\"1015.136719\" xlink:href=\"#DejaVuSans-116\"/>\r\n       <use x=\"1054.345703\" xlink:href=\"#DejaVuSans-101\"/>\r\n      </g>\r\n     </g>\r\n    </g>\r\n    <g id=\"xtick_9\">\r\n     <g id=\"line2d_9\">\r\n      <g>\r\n       <use style=\"stroke:#000000;stroke-width:0.8;\" x=\"403.59625\" xlink:href=\"#m1dbaf636b5\" y=\"65.359219\"/>\r\n      </g>\r\n     </g>\r\n     <g id=\"text_9\">\r\n      <!-- fase_dia -->\r\n      <g transform=\"translate(406.216563 113.624844)rotate(-90)scale(0.1 -0.1)\">\r\n       <use xlink:href=\"#DejaVuSans-102\"/>\r\n       <use x=\"35.205078\" xlink:href=\"#DejaVuSans-97\"/>\r\n       <use x=\"96.484375\" xlink:href=\"#DejaVuSans-115\"/>\r\n       <use x=\"148.583984\" xlink:href=\"#DejaVuSans-101\"/>\r\n       <use x=\"210.107422\" xlink:href=\"#DejaVuSans-95\"/>\r\n       <use x=\"260.107422\" xlink:href=\"#DejaVuSans-100\"/>\r\n       <use x=\"323.583984\" xlink:href=\"#DejaVuSans-105\"/>\r\n       <use x=\"351.367188\" xlink:href=\"#DejaVuSans-97\"/>\r\n      </g>\r\n     </g>\r\n    </g>\r\n    <g id=\"xtick_10\">\r\n     <g id=\"line2d_10\">\r\n      <g>\r\n       <use style=\"stroke:#000000;stroke-width:0.8;\" x=\"448.23625\" xlink:href=\"#m1dbaf636b5\" y=\"65.359219\"/>\r\n      </g>\r\n     </g>\r\n     <g id=\"text_10\">\r\n      <!-- sentido_via -->\r\n      <g transform=\"translate(450.856563 129.049844)rotate(-90)scale(0.1 -0.1)\">\r\n       <use xlink:href=\"#DejaVuSans-115\"/>\r\n       <use x=\"52.099609\" xlink:href=\"#DejaVuSans-101\"/>\r\n       <use x=\"113.623047\" xlink:href=\"#DejaVuSans-110\"/>\r\n       <use x=\"177.001953\" xlink:href=\"#DejaVuSans-116\"/>\r\n       <use x=\"216.210938\" xlink:href=\"#DejaVuSans-105\"/>\r\n       <use x=\"243.994141\" xlink:href=\"#DejaVuSans-100\"/>\r\n       <use x=\"307.470703\" xlink:href=\"#DejaVuSans-111\"/>\r\n       <use x=\"368.652344\" xlink:href=\"#DejaVuSans-95\"/>\r\n       <use x=\"418.652344\" xlink:href=\"#DejaVuSans-118\"/>\r\n       <use x=\"477.832031\" xlink:href=\"#DejaVuSans-105\"/>\r\n       <use x=\"505.615234\" xlink:href=\"#DejaVuSans-97\"/>\r\n      </g>\r\n     </g>\r\n    </g>\r\n    <g id=\"xtick_11\">\r\n     <g id=\"line2d_11\">\r\n      <g>\r\n       <use style=\"stroke:#000000;stroke-width:0.8;\" x=\"492.87625\" xlink:href=\"#m1dbaf636b5\" y=\"65.359219\"/>\r\n      </g>\r\n     </g>\r\n     <g id=\"text_11\">\r\n      <!-- condicao_metereologica -->\r\n      <defs>\r\n       <path d=\"M 45.40625 27.984375 \r\nQ 45.40625 37.75 41.375 43.109375 \r\nQ 37.359375 48.484375 30.078125 48.484375 \r\nQ 22.859375 48.484375 18.828125 43.109375 \r\nQ 14.796875 37.75 14.796875 27.984375 \r\nQ 14.796875 18.265625 18.828125 12.890625 \r\nQ 22.859375 7.515625 30.078125 7.515625 \r\nQ 37.359375 7.515625 41.375 12.890625 \r\nQ 45.40625 18.265625 45.40625 27.984375 \r\nz\r\nM 54.390625 6.78125 \r\nQ 54.390625 -7.171875 48.1875 -13.984375 \r\nQ 42 -20.796875 29.203125 -20.796875 \r\nQ 24.46875 -20.796875 20.265625 -20.09375 \r\nQ 16.0625 -19.390625 12.109375 -17.921875 \r\nL 12.109375 -9.1875 \r\nQ 16.0625 -11.328125 19.921875 -12.34375 \r\nQ 23.78125 -13.375 27.78125 -13.375 \r\nQ 36.625 -13.375 41.015625 -8.765625 \r\nQ 45.40625 -4.15625 45.40625 5.171875 \r\nL 45.40625 9.625 \r\nQ 42.625 4.78125 38.28125 2.390625 \r\nQ 33.9375 0 27.875 0 \r\nQ 17.828125 0 11.671875 7.65625 \r\nQ 5.515625 15.328125 5.515625 27.984375 \r\nQ 5.515625 40.671875 11.671875 48.328125 \r\nQ 17.828125 56 27.875 56 \r\nQ 33.9375 56 38.28125 53.609375 \r\nQ 42.625 51.21875 45.40625 46.390625 \r\nL 45.40625 54.6875 \r\nL 54.390625 54.6875 \r\nz\r\n\" id=\"DejaVuSans-103\"/>\r\n      </defs>\r\n      <g transform=\"translate(495.496563 193.960781)rotate(-90)scale(0.1 -0.1)\">\r\n       <use xlink:href=\"#DejaVuSans-99\"/>\r\n       <use x=\"54.980469\" xlink:href=\"#DejaVuSans-111\"/>\r\n       <use x=\"116.162109\" xlink:href=\"#DejaVuSans-110\"/>\r\n       <use x=\"179.541016\" xlink:href=\"#DejaVuSans-100\"/>\r\n       <use x=\"243.017578\" xlink:href=\"#DejaVuSans-105\"/>\r\n       <use x=\"270.800781\" xlink:href=\"#DejaVuSans-99\"/>\r\n       <use x=\"325.78125\" xlink:href=\"#DejaVuSans-97\"/>\r\n       <use x=\"387.060547\" xlink:href=\"#DejaVuSans-111\"/>\r\n       <use x=\"448.242188\" xlink:href=\"#DejaVuSans-95\"/>\r\n       <use x=\"498.242188\" xlink:href=\"#DejaVuSans-109\"/>\r\n       <use x=\"595.654297\" xlink:href=\"#DejaVuSans-101\"/>\r\n       <use x=\"657.177734\" xlink:href=\"#DejaVuSans-116\"/>\r\n       <use x=\"696.386719\" xlink:href=\"#DejaVuSans-101\"/>\r\n       <use x=\"757.910156\" xlink:href=\"#DejaVuSans-114\"/>\r\n       <use x=\"796.773438\" xlink:href=\"#DejaVuSans-101\"/>\r\n       <use x=\"858.296875\" xlink:href=\"#DejaVuSans-111\"/>\r\n       <use x=\"919.478516\" xlink:href=\"#DejaVuSans-108\"/>\r\n       <use x=\"947.261719\" xlink:href=\"#DejaVuSans-111\"/>\r\n       <use x=\"1008.443359\" xlink:href=\"#DejaVuSans-103\"/>\r\n       <use x=\"1071.919922\" xlink:href=\"#DejaVuSans-105\"/>\r\n       <use x=\"1099.703125\" xlink:href=\"#DejaVuSans-99\"/>\r\n       <use x=\"1154.683594\" xlink:href=\"#DejaVuSans-97\"/>\r\n      </g>\r\n     </g>\r\n    </g>\r\n    <g id=\"xtick_12\">\r\n     <g id=\"line2d_12\">\r\n      <g>\r\n       <use style=\"stroke:#000000;stroke-width:0.8;\" x=\"537.51625\" xlink:href=\"#m1dbaf636b5\" y=\"65.359219\"/>\r\n      </g>\r\n     </g>\r\n     <g id=\"text_12\">\r\n      <!-- tipo_pista -->\r\n      <g transform=\"translate(540.136563 120.909219)rotate(-90)scale(0.1 -0.1)\">\r\n       <use xlink:href=\"#DejaVuSans-116\"/>\r\n       <use x=\"39.208984\" xlink:href=\"#DejaVuSans-105\"/>\r\n       <use x=\"66.992188\" xlink:href=\"#DejaVuSans-112\"/>\r\n       <use x=\"130.46875\" xlink:href=\"#DejaVuSans-111\"/>\r\n       <use x=\"191.650391\" xlink:href=\"#DejaVuSans-95\"/>\r\n       <use x=\"241.650391\" xlink:href=\"#DejaVuSans-112\"/>\r\n       <use x=\"305.126953\" xlink:href=\"#DejaVuSans-105\"/>\r\n       <use x=\"332.910156\" xlink:href=\"#DejaVuSans-115\"/>\r\n       <use x=\"385.009766\" xlink:href=\"#DejaVuSans-116\"/>\r\n       <use x=\"424.21875\" xlink:href=\"#DejaVuSans-97\"/>\r\n      </g>\r\n     </g>\r\n    </g>\r\n    <g id=\"xtick_13\">\r\n     <g id=\"line2d_13\">\r\n      <g>\r\n       <use style=\"stroke:#000000;stroke-width:0.8;\" x=\"582.15625\" xlink:href=\"#m1dbaf636b5\" y=\"65.359219\"/>\r\n      </g>\r\n     </g>\r\n     <g id=\"text_13\">\r\n      <!-- tracado_via -->\r\n      <g transform=\"translate(584.776563 130.437344)rotate(-90)scale(0.1 -0.1)\">\r\n       <use xlink:href=\"#DejaVuSans-116\"/>\r\n       <use x=\"39.208984\" xlink:href=\"#DejaVuSans-114\"/>\r\n       <use x=\"80.322266\" xlink:href=\"#DejaVuSans-97\"/>\r\n       <use x=\"141.601562\" xlink:href=\"#DejaVuSans-99\"/>\r\n       <use x=\"196.582031\" xlink:href=\"#DejaVuSans-97\"/>\r\n       <use x=\"257.861328\" xlink:href=\"#DejaVuSans-100\"/>\r\n       <use x=\"321.337891\" xlink:href=\"#DejaVuSans-111\"/>\r\n       <use x=\"382.519531\" xlink:href=\"#DejaVuSans-95\"/>\r\n       <use x=\"432.519531\" xlink:href=\"#DejaVuSans-118\"/>\r\n       <use x=\"491.699219\" xlink:href=\"#DejaVuSans-105\"/>\r\n       <use x=\"519.482422\" xlink:href=\"#DejaVuSans-97\"/>\r\n      </g>\r\n     </g>\r\n    </g>\r\n    <g id=\"xtick_14\">\r\n     <g id=\"line2d_14\">\r\n      <g>\r\n       <use style=\"stroke:#000000;stroke-width:0.8;\" x=\"626.79625\" xlink:href=\"#m1dbaf636b5\" y=\"65.359219\"/>\r\n      </g>\r\n     </g>\r\n     <g id=\"text_14\">\r\n      <!-- uso_solo -->\r\n      <g transform=\"translate(629.416563 115.249844)rotate(-90)scale(0.1 -0.1)\">\r\n       <use xlink:href=\"#DejaVuSans-117\"/>\r\n       <use x=\"63.378906\" xlink:href=\"#DejaVuSans-115\"/>\r\n       <use x=\"115.478516\" xlink:href=\"#DejaVuSans-111\"/>\r\n       <use x=\"176.660156\" xlink:href=\"#DejaVuSans-95\"/>\r\n       <use x=\"226.660156\" xlink:href=\"#DejaVuSans-115\"/>\r\n       <use x=\"278.759766\" xlink:href=\"#DejaVuSans-111\"/>\r\n       <use x=\"339.941406\" xlink:href=\"#DejaVuSans-108\"/>\r\n       <use x=\"367.724609\" xlink:href=\"#DejaVuSans-111\"/>\r\n      </g>\r\n     </g>\r\n    </g>\r\n    <g id=\"xtick_15\">\r\n     <g id=\"line2d_15\">\r\n      <g>\r\n       <use style=\"stroke:#000000;stroke-width:0.8;\" x=\"671.43625\" xlink:href=\"#m1dbaf636b5\" y=\"65.359219\"/>\r\n      </g>\r\n     </g>\r\n     <g id=\"text_15\">\r\n      <!-- tipo_veiculo -->\r\n      <g transform=\"translate(674.056563 132.107656)rotate(-90)scale(0.1 -0.1)\">\r\n       <use xlink:href=\"#DejaVuSans-116\"/>\r\n       <use x=\"39.208984\" xlink:href=\"#DejaVuSans-105\"/>\r\n       <use x=\"66.992188\" xlink:href=\"#DejaVuSans-112\"/>\r\n       <use x=\"130.46875\" xlink:href=\"#DejaVuSans-111\"/>\r\n       <use x=\"191.650391\" xlink:href=\"#DejaVuSans-95\"/>\r\n       <use x=\"241.650391\" xlink:href=\"#DejaVuSans-118\"/>\r\n       <use x=\"300.830078\" xlink:href=\"#DejaVuSans-101\"/>\r\n       <use x=\"362.353516\" xlink:href=\"#DejaVuSans-105\"/>\r\n       <use x=\"390.136719\" xlink:href=\"#DejaVuSans-99\"/>\r\n       <use x=\"445.117188\" xlink:href=\"#DejaVuSans-117\"/>\r\n       <use x=\"508.496094\" xlink:href=\"#DejaVuSans-108\"/>\r\n       <use x=\"536.279297\" xlink:href=\"#DejaVuSans-111\"/>\r\n      </g>\r\n     </g>\r\n    </g>\r\n    <g id=\"xtick_16\">\r\n     <g id=\"line2d_16\">\r\n      <g>\r\n       <use style=\"stroke:#000000;stroke-width:0.8;\" x=\"716.07625\" xlink:href=\"#m1dbaf636b5\" y=\"65.359219\"/>\r\n      </g>\r\n     </g>\r\n     <g id=\"text_16\">\r\n      <!-- marca -->\r\n      <g transform=\"translate(718.835625 103.740469)rotate(-90)scale(0.1 -0.1)\">\r\n       <use xlink:href=\"#DejaVuSans-109\"/>\r\n       <use x=\"97.412109\" xlink:href=\"#DejaVuSans-97\"/>\r\n       <use x=\"158.691406\" xlink:href=\"#DejaVuSans-114\"/>\r\n       <use x=\"197.554688\" xlink:href=\"#DejaVuSans-99\"/>\r\n       <use x=\"252.535156\" xlink:href=\"#DejaVuSans-97\"/>\r\n      </g>\r\n     </g>\r\n    </g>\r\n    <g id=\"xtick_17\">\r\n     <g id=\"line2d_17\">\r\n      <g>\r\n       <use style=\"stroke:#000000;stroke-width:0.8;\" x=\"760.71625\" xlink:href=\"#m1dbaf636b5\" y=\"65.359219\"/>\r\n      </g>\r\n     </g>\r\n     <g id=\"text_17\">\r\n      <!-- ano_fabricacao_veiculo -->\r\n      <g transform=\"translate(763.336563 188.784219)rotate(-90)scale(0.1 -0.1)\">\r\n       <use xlink:href=\"#DejaVuSans-97\"/>\r\n       <use x=\"61.279297\" xlink:href=\"#DejaVuSans-110\"/>\r\n       <use x=\"124.658203\" xlink:href=\"#DejaVuSans-111\"/>\r\n       <use x=\"185.839844\" xlink:href=\"#DejaVuSans-95\"/>\r\n       <use x=\"235.839844\" xlink:href=\"#DejaVuSans-102\"/>\r\n       <use x=\"271.044922\" xlink:href=\"#DejaVuSans-97\"/>\r\n       <use x=\"332.324219\" xlink:href=\"#DejaVuSans-98\"/>\r\n       <use x=\"395.800781\" xlink:href=\"#DejaVuSans-114\"/>\r\n       <use x=\"436.914062\" xlink:href=\"#DejaVuSans-105\"/>\r\n       <use x=\"464.697266\" xlink:href=\"#DejaVuSans-99\"/>\r\n       <use x=\"519.677734\" xlink:href=\"#DejaVuSans-97\"/>\r\n       <use x=\"580.957031\" xlink:href=\"#DejaVuSans-99\"/>\r\n       <use x=\"635.9375\" xlink:href=\"#DejaVuSans-97\"/>\r\n       <use x=\"697.216797\" xlink:href=\"#DejaVuSans-111\"/>\r\n       <use x=\"758.398438\" xlink:href=\"#DejaVuSans-95\"/>\r\n       <use x=\"808.398438\" xlink:href=\"#DejaVuSans-118\"/>\r\n       <use x=\"867.578125\" xlink:href=\"#DejaVuSans-101\"/>\r\n       <use x=\"929.101562\" xlink:href=\"#DejaVuSans-105\"/>\r\n       <use x=\"956.884766\" xlink:href=\"#DejaVuSans-99\"/>\r\n       <use x=\"1011.865234\" xlink:href=\"#DejaVuSans-117\"/>\r\n       <use x=\"1075.244141\" xlink:href=\"#DejaVuSans-108\"/>\r\n       <use x=\"1103.027344\" xlink:href=\"#DejaVuSans-111\"/>\r\n      </g>\r\n     </g>\r\n    </g>\r\n    <g id=\"xtick_18\">\r\n     <g id=\"line2d_18\">\r\n      <g>\r\n       <use style=\"stroke:#000000;stroke-width:0.8;\" x=\"805.35625\" xlink:href=\"#m1dbaf636b5\" y=\"65.359219\"/>\r\n      </g>\r\n     </g>\r\n     <g id=\"text_18\">\r\n      <!-- tipo_envolvido -->\r\n      <g transform=\"translate(807.976563 144.995156)rotate(-90)scale(0.1 -0.1)\">\r\n       <use xlink:href=\"#DejaVuSans-116\"/>\r\n       <use x=\"39.208984\" xlink:href=\"#DejaVuSans-105\"/>\r\n       <use x=\"66.992188\" xlink:href=\"#DejaVuSans-112\"/>\r\n       <use x=\"130.46875\" xlink:href=\"#DejaVuSans-111\"/>\r\n       <use x=\"191.650391\" xlink:href=\"#DejaVuSans-95\"/>\r\n       <use x=\"241.650391\" xlink:href=\"#DejaVuSans-101\"/>\r\n       <use x=\"303.173828\" xlink:href=\"#DejaVuSans-110\"/>\r\n       <use x=\"366.552734\" xlink:href=\"#DejaVuSans-118\"/>\r\n       <use x=\"425.732422\" xlink:href=\"#DejaVuSans-111\"/>\r\n       <use x=\"486.914062\" xlink:href=\"#DejaVuSans-108\"/>\r\n       <use x=\"514.697266\" xlink:href=\"#DejaVuSans-118\"/>\r\n       <use x=\"573.876953\" xlink:href=\"#DejaVuSans-105\"/>\r\n       <use x=\"601.660156\" xlink:href=\"#DejaVuSans-100\"/>\r\n       <use x=\"665.136719\" xlink:href=\"#DejaVuSans-111\"/>\r\n      </g>\r\n     </g>\r\n    </g>\r\n    <g id=\"xtick_19\">\r\n     <g id=\"line2d_19\">\r\n      <g>\r\n       <use style=\"stroke:#000000;stroke-width:0.8;\" x=\"849.99625\" xlink:href=\"#m1dbaf636b5\" y=\"65.359219\"/>\r\n      </g>\r\n     </g>\r\n     <g id=\"text_19\">\r\n      <!-- idade -->\r\n      <g transform=\"translate(852.755625 100.115469)rotate(-90)scale(0.1 -0.1)\">\r\n       <use xlink:href=\"#DejaVuSans-105\"/>\r\n       <use x=\"27.783203\" xlink:href=\"#DejaVuSans-100\"/>\r\n       <use x=\"91.259766\" xlink:href=\"#DejaVuSans-97\"/>\r\n       <use x=\"152.539062\" xlink:href=\"#DejaVuSans-100\"/>\r\n       <use x=\"216.015625\" xlink:href=\"#DejaVuSans-101\"/>\r\n      </g>\r\n     </g>\r\n    </g>\r\n    <g id=\"xtick_20\">\r\n     <g id=\"line2d_20\">\r\n      <g>\r\n       <use style=\"stroke:#000000;stroke-width:0.8;\" x=\"894.63625\" xlink:href=\"#m1dbaf636b5\" y=\"65.359219\"/>\r\n      </g>\r\n     </g>\r\n     <g id=\"text_20\">\r\n      <!-- sexo -->\r\n      <defs>\r\n       <path d=\"M 54.890625 54.6875 \r\nL 35.109375 28.078125 \r\nL 55.90625 0 \r\nL 45.3125 0 \r\nL 29.390625 21.484375 \r\nL 13.484375 0 \r\nL 2.875 0 \r\nL 24.125 28.609375 \r\nL 4.6875 54.6875 \r\nL 15.28125 54.6875 \r\nL 29.78125 35.203125 \r\nL 44.28125 54.6875 \r\nz\r\n\" id=\"DejaVuSans-120\"/>\r\n      </defs>\r\n      <g transform=\"translate(897.395625 95.271719)rotate(-90)scale(0.1 -0.1)\">\r\n       <use xlink:href=\"#DejaVuSans-115\"/>\r\n       <use x=\"52.099609\" xlink:href=\"#DejaVuSans-101\"/>\r\n       <use x=\"111.873047\" xlink:href=\"#DejaVuSans-120\"/>\r\n       <use x=\"167.927734\" xlink:href=\"#DejaVuSans-111\"/>\r\n      </g>\r\n     </g>\r\n    </g>\r\n   </g>\r\n   <g id=\"matplotlib.axis_2\">\r\n    <g id=\"ytick_1\">\r\n     <g id=\"line2d_21\">\r\n      <defs>\r\n       <path d=\"M 0 0 \r\nL -3.5 0 \r\n\" id=\"mb2b06b63e0\" style=\"stroke:#000000;stroke-width:0.8;\"/>\r\n      </defs>\r\n      <g>\r\n       <use style=\"stroke:#000000;stroke-width:0.8;\" x=\"24.15625\" xlink:href=\"#mb2b06b63e0\" y=\"38.179219\"/>\r\n      </g>\r\n     </g>\r\n     <g id=\"text_21\">\r\n      <!-- tipo_acidente -->\r\n      <g transform=\"translate(14.798438 101.862813)rotate(-90)scale(0.1 -0.1)\">\r\n       <use xlink:href=\"#DejaVuSans-116\"/>\r\n       <use x=\"39.208984\" xlink:href=\"#DejaVuSans-105\"/>\r\n       <use x=\"66.992188\" xlink:href=\"#DejaVuSans-112\"/>\r\n       <use x=\"130.46875\" xlink:href=\"#DejaVuSans-111\"/>\r\n       <use x=\"191.650391\" xlink:href=\"#DejaVuSans-95\"/>\r\n       <use x=\"241.650391\" xlink:href=\"#DejaVuSans-97\"/>\r\n       <use x=\"302.929688\" xlink:href=\"#DejaVuSans-99\"/>\r\n       <use x=\"357.910156\" xlink:href=\"#DejaVuSans-105\"/>\r\n       <use x=\"385.693359\" xlink:href=\"#DejaVuSans-100\"/>\r\n       <use x=\"449.169922\" xlink:href=\"#DejaVuSans-101\"/>\r\n       <use x=\"510.693359\" xlink:href=\"#DejaVuSans-110\"/>\r\n       <use x=\"574.072266\" xlink:href=\"#DejaVuSans-116\"/>\r\n       <use x=\"613.28125\" xlink:href=\"#DejaVuSans-101\"/>\r\n      </g>\r\n     </g>\r\n    </g>\r\n   </g>\r\n   <g id=\"text_22\">\r\n    <!-- 0.03 -->\r\n    <defs>\r\n     <path d=\"M 31.78125 66.40625 \r\nQ 24.171875 66.40625 20.328125 58.90625 \r\nQ 16.5 51.421875 16.5 36.375 \r\nQ 16.5 21.390625 20.328125 13.890625 \r\nQ 24.171875 6.390625 31.78125 6.390625 \r\nQ 39.453125 6.390625 43.28125 13.890625 \r\nQ 47.125 21.390625 47.125 36.375 \r\nQ 47.125 51.421875 43.28125 58.90625 \r\nQ 39.453125 66.40625 31.78125 66.40625 \r\nz\r\nM 31.78125 74.21875 \r\nQ 44.046875 74.21875 50.515625 64.515625 \r\nQ 56.984375 54.828125 56.984375 36.375 \r\nQ 56.984375 17.96875 50.515625 8.265625 \r\nQ 44.046875 -1.421875 31.78125 -1.421875 \r\nQ 19.53125 -1.421875 13.0625 8.265625 \r\nQ 6.59375 17.96875 6.59375 36.375 \r\nQ 6.59375 54.828125 13.0625 64.515625 \r\nQ 19.53125 74.21875 31.78125 74.21875 \r\nz\r\n\" id=\"DejaVuSans-48\"/>\r\n     <path d=\"M 10.6875 12.40625 \r\nL 21 12.40625 \r\nL 21 0 \r\nL 10.6875 0 \r\nz\r\n\" id=\"DejaVuSans-46\"/>\r\n     <path d=\"M 40.578125 39.3125 \r\nQ 47.65625 37.796875 51.625 33 \r\nQ 55.609375 28.21875 55.609375 21.1875 \r\nQ 55.609375 10.40625 48.1875 4.484375 \r\nQ 40.765625 -1.421875 27.09375 -1.421875 \r\nQ 22.515625 -1.421875 17.65625 -0.515625 \r\nQ 12.796875 0.390625 7.625 2.203125 \r\nL 7.625 11.71875 \r\nQ 11.71875 9.328125 16.59375 8.109375 \r\nQ 21.484375 6.890625 26.8125 6.890625 \r\nQ 36.078125 6.890625 40.9375 10.546875 \r\nQ 45.796875 14.203125 45.796875 21.1875 \r\nQ 45.796875 27.640625 41.28125 31.265625 \r\nQ 36.765625 34.90625 28.71875 34.90625 \r\nL 20.21875 34.90625 \r\nL 20.21875 43.015625 \r\nL 29.109375 43.015625 \r\nQ 36.375 43.015625 40.234375 45.921875 \r\nQ 44.09375 48.828125 44.09375 54.296875 \r\nQ 44.09375 59.90625 40.109375 62.90625 \r\nQ 36.140625 65.921875 28.71875 65.921875 \r\nQ 24.65625 65.921875 20.015625 65.03125 \r\nQ 15.375 64.15625 9.8125 62.3125 \r\nL 9.8125 71.09375 \r\nQ 15.4375 72.65625 20.34375 73.4375 \r\nQ 25.25 74.21875 29.59375 74.21875 \r\nQ 40.828125 74.21875 47.359375 69.109375 \r\nQ 53.90625 64.015625 53.90625 55.328125 \r\nQ 53.90625 49.265625 50.4375 45.09375 \r\nQ 46.96875 40.921875 40.578125 39.3125 \r\nz\r\n\" id=\"DejaVuSans-51\"/>\r\n    </defs>\r\n    <g style=\"fill:#ffffff;\" transform=\"translate(35.343438 40.938594)scale(0.1 -0.1)\">\r\n     <use xlink:href=\"#DejaVuSans-48\"/>\r\n     <use x=\"63.623047\" xlink:href=\"#DejaVuSans-46\"/>\r\n     <use x=\"95.410156\" xlink:href=\"#DejaVuSans-48\"/>\r\n     <use x=\"159.033203\" xlink:href=\"#DejaVuSans-51\"/>\r\n    </g>\r\n   </g>\r\n   <g id=\"text_23\">\r\n    <!-- 0.00 -->\r\n    <g style=\"fill:#ffffff;\" transform=\"translate(79.983438 40.938594)scale(0.1 -0.1)\">\r\n     <use xlink:href=\"#DejaVuSans-48\"/>\r\n     <use x=\"63.623047\" xlink:href=\"#DejaVuSans-46\"/>\r\n     <use x=\"95.410156\" xlink:href=\"#DejaVuSans-48\"/>\r\n     <use x=\"159.033203\" xlink:href=\"#DejaVuSans-48\"/>\r\n    </g>\r\n   </g>\r\n   <g id=\"text_24\">\r\n    <!-- 0.02 -->\r\n    <defs>\r\n     <path d=\"M 19.1875 8.296875 \r\nL 53.609375 8.296875 \r\nL 53.609375 0 \r\nL 7.328125 0 \r\nL 7.328125 8.296875 \r\nQ 12.9375 14.109375 22.625 23.890625 \r\nQ 32.328125 33.6875 34.8125 36.53125 \r\nQ 39.546875 41.84375 41.421875 45.53125 \r\nQ 43.3125 49.21875 43.3125 52.78125 \r\nQ 43.3125 58.59375 39.234375 62.25 \r\nQ 35.15625 65.921875 28.609375 65.921875 \r\nQ 23.96875 65.921875 18.8125 64.3125 \r\nQ 13.671875 62.703125 7.8125 59.421875 \r\nL 7.8125 69.390625 \r\nQ 13.765625 71.78125 18.9375 73 \r\nQ 24.125 74.21875 28.421875 74.21875 \r\nQ 39.75 74.21875 46.484375 68.546875 \r\nQ 53.21875 62.890625 53.21875 53.421875 \r\nQ 53.21875 48.921875 51.53125 44.890625 \r\nQ 49.859375 40.875 45.40625 35.40625 \r\nQ 44.1875 33.984375 37.640625 27.21875 \r\nQ 31.109375 20.453125 19.1875 8.296875 \r\nz\r\n\" id=\"DejaVuSans-50\"/>\r\n    </defs>\r\n    <g style=\"fill:#ffffff;\" transform=\"translate(124.623438 40.938594)scale(0.1 -0.1)\">\r\n     <use xlink:href=\"#DejaVuSans-48\"/>\r\n     <use x=\"63.623047\" xlink:href=\"#DejaVuSans-46\"/>\r\n     <use x=\"95.410156\" xlink:href=\"#DejaVuSans-48\"/>\r\n     <use x=\"159.033203\" xlink:href=\"#DejaVuSans-50\"/>\r\n    </g>\r\n   </g>\r\n   <g id=\"text_25\">\r\n    <!-- 0.03 -->\r\n    <g style=\"fill:#ffffff;\" transform=\"translate(169.263438 40.938594)scale(0.1 -0.1)\">\r\n     <use xlink:href=\"#DejaVuSans-48\"/>\r\n     <use x=\"63.623047\" xlink:href=\"#DejaVuSans-46\"/>\r\n     <use x=\"95.410156\" xlink:href=\"#DejaVuSans-48\"/>\r\n     <use x=\"159.033203\" xlink:href=\"#DejaVuSans-51\"/>\r\n    </g>\r\n   </g>\r\n   <g id=\"text_26\">\r\n    <!-- 0.26 -->\r\n    <defs>\r\n     <path d=\"M 33.015625 40.375 \r\nQ 26.375 40.375 22.484375 35.828125 \r\nQ 18.609375 31.296875 18.609375 23.390625 \r\nQ 18.609375 15.53125 22.484375 10.953125 \r\nQ 26.375 6.390625 33.015625 6.390625 \r\nQ 39.65625 6.390625 43.53125 10.953125 \r\nQ 47.40625 15.53125 47.40625 23.390625 \r\nQ 47.40625 31.296875 43.53125 35.828125 \r\nQ 39.65625 40.375 33.015625 40.375 \r\nz\r\nM 52.59375 71.296875 \r\nL 52.59375 62.3125 \r\nQ 48.875 64.0625 45.09375 64.984375 \r\nQ 41.3125 65.921875 37.59375 65.921875 \r\nQ 27.828125 65.921875 22.671875 59.328125 \r\nQ 17.53125 52.734375 16.796875 39.40625 \r\nQ 19.671875 43.65625 24.015625 45.921875 \r\nQ 28.375 48.1875 33.59375 48.1875 \r\nQ 44.578125 48.1875 50.953125 41.515625 \r\nQ 57.328125 34.859375 57.328125 23.390625 \r\nQ 57.328125 12.15625 50.6875 5.359375 \r\nQ 44.046875 -1.421875 33.015625 -1.421875 \r\nQ 20.359375 -1.421875 13.671875 8.265625 \r\nQ 6.984375 17.96875 6.984375 36.375 \r\nQ 6.984375 53.65625 15.1875 63.9375 \r\nQ 23.390625 74.21875 37.203125 74.21875 \r\nQ 40.921875 74.21875 44.703125 73.484375 \r\nQ 48.484375 72.75 52.59375 71.296875 \r\nz\r\n\" id=\"DejaVuSans-54\"/>\r\n    </defs>\r\n    <g style=\"fill:#ffffff;\" transform=\"translate(213.903438 40.938594)scale(0.1 -0.1)\">\r\n     <use xlink:href=\"#DejaVuSans-48\"/>\r\n     <use x=\"63.623047\" xlink:href=\"#DejaVuSans-46\"/>\r\n     <use x=\"95.410156\" xlink:href=\"#DejaVuSans-50\"/>\r\n     <use x=\"159.033203\" xlink:href=\"#DejaVuSans-54\"/>\r\n    </g>\r\n   </g>\r\n   <g id=\"text_27\">\r\n    <!-- 0.14 -->\r\n    <defs>\r\n     <path d=\"M 12.40625 8.296875 \r\nL 28.515625 8.296875 \r\nL 28.515625 63.921875 \r\nL 10.984375 60.40625 \r\nL 10.984375 69.390625 \r\nL 28.421875 72.90625 \r\nL 38.28125 72.90625 \r\nL 38.28125 8.296875 \r\nL 54.390625 8.296875 \r\nL 54.390625 0 \r\nL 12.40625 0 \r\nz\r\n\" id=\"DejaVuSans-49\"/>\r\n     <path d=\"M 37.796875 64.3125 \r\nL 12.890625 25.390625 \r\nL 37.796875 25.390625 \r\nz\r\nM 35.203125 72.90625 \r\nL 47.609375 72.90625 \r\nL 47.609375 25.390625 \r\nL 58.015625 25.390625 \r\nL 58.015625 17.1875 \r\nL 47.609375 17.1875 \r\nL 47.609375 0 \r\nL 37.796875 0 \r\nL 37.796875 17.1875 \r\nL 4.890625 17.1875 \r\nL 4.890625 26.703125 \r\nz\r\n\" id=\"DejaVuSans-52\"/>\r\n    </defs>\r\n    <g style=\"fill:#ffffff;\" transform=\"translate(258.543438 40.938594)scale(0.1 -0.1)\">\r\n     <use xlink:href=\"#DejaVuSans-48\"/>\r\n     <use x=\"63.623047\" xlink:href=\"#DejaVuSans-46\"/>\r\n     <use x=\"95.410156\" xlink:href=\"#DejaVuSans-49\"/>\r\n     <use x=\"159.033203\" xlink:href=\"#DejaVuSans-52\"/>\r\n    </g>\r\n   </g>\r\n   <g id=\"text_28\">\r\n    <!-- 1.00 -->\r\n    <g style=\"fill:#262626;\" transform=\"translate(303.183438 40.938594)scale(0.1 -0.1)\">\r\n     <use xlink:href=\"#DejaVuSans-49\"/>\r\n     <use x=\"63.623047\" xlink:href=\"#DejaVuSans-46\"/>\r\n     <use x=\"95.410156\" xlink:href=\"#DejaVuSans-48\"/>\r\n     <use x=\"159.033203\" xlink:href=\"#DejaVuSans-48\"/>\r\n    </g>\r\n   </g>\r\n   <g id=\"text_29\">\r\n    <!-- 0.02 -->\r\n    <g style=\"fill:#ffffff;\" transform=\"translate(347.823438 40.938594)scale(0.1 -0.1)\">\r\n     <use xlink:href=\"#DejaVuSans-48\"/>\r\n     <use x=\"63.623047\" xlink:href=\"#DejaVuSans-46\"/>\r\n     <use x=\"95.410156\" xlink:href=\"#DejaVuSans-48\"/>\r\n     <use x=\"159.033203\" xlink:href=\"#DejaVuSans-50\"/>\r\n    </g>\r\n   </g>\r\n   <g id=\"text_30\">\r\n    <!-- 0.01 -->\r\n    <g style=\"fill:#ffffff;\" transform=\"translate(392.463438 40.938594)scale(0.1 -0.1)\">\r\n     <use xlink:href=\"#DejaVuSans-48\"/>\r\n     <use x=\"63.623047\" xlink:href=\"#DejaVuSans-46\"/>\r\n     <use x=\"95.410156\" xlink:href=\"#DejaVuSans-48\"/>\r\n     <use x=\"159.033203\" xlink:href=\"#DejaVuSans-49\"/>\r\n    </g>\r\n   </g>\r\n   <g id=\"text_31\">\r\n    <!-- 0.00 -->\r\n    <g style=\"fill:#ffffff;\" transform=\"translate(437.103438 40.938594)scale(0.1 -0.1)\">\r\n     <use xlink:href=\"#DejaVuSans-48\"/>\r\n     <use x=\"63.623047\" xlink:href=\"#DejaVuSans-46\"/>\r\n     <use x=\"95.410156\" xlink:href=\"#DejaVuSans-48\"/>\r\n     <use x=\"159.033203\" xlink:href=\"#DejaVuSans-48\"/>\r\n    </g>\r\n   </g>\r\n   <g id=\"text_32\">\r\n    <!-- 0.01 -->\r\n    <g style=\"fill:#ffffff;\" transform=\"translate(481.743438 40.938594)scale(0.1 -0.1)\">\r\n     <use xlink:href=\"#DejaVuSans-48\"/>\r\n     <use x=\"63.623047\" xlink:href=\"#DejaVuSans-46\"/>\r\n     <use x=\"95.410156\" xlink:href=\"#DejaVuSans-48\"/>\r\n     <use x=\"159.033203\" xlink:href=\"#DejaVuSans-49\"/>\r\n    </g>\r\n   </g>\r\n   <g id=\"text_33\">\r\n    <!-- 0.02 -->\r\n    <g style=\"fill:#ffffff;\" transform=\"translate(526.383438 40.938594)scale(0.1 -0.1)\">\r\n     <use xlink:href=\"#DejaVuSans-48\"/>\r\n     <use x=\"63.623047\" xlink:href=\"#DejaVuSans-46\"/>\r\n     <use x=\"95.410156\" xlink:href=\"#DejaVuSans-48\"/>\r\n     <use x=\"159.033203\" xlink:href=\"#DejaVuSans-50\"/>\r\n    </g>\r\n   </g>\r\n   <g id=\"text_34\">\r\n    <!-- 0.02 -->\r\n    <g style=\"fill:#ffffff;\" transform=\"translate(571.023438 40.938594)scale(0.1 -0.1)\">\r\n     <use xlink:href=\"#DejaVuSans-48\"/>\r\n     <use x=\"63.623047\" xlink:href=\"#DejaVuSans-46\"/>\r\n     <use x=\"95.410156\" xlink:href=\"#DejaVuSans-48\"/>\r\n     <use x=\"159.033203\" xlink:href=\"#DejaVuSans-50\"/>\r\n    </g>\r\n   </g>\r\n   <g id=\"text_35\">\r\n    <!-- 0.02 -->\r\n    <g style=\"fill:#ffffff;\" transform=\"translate(615.663438 40.938594)scale(0.1 -0.1)\">\r\n     <use xlink:href=\"#DejaVuSans-48\"/>\r\n     <use x=\"63.623047\" xlink:href=\"#DejaVuSans-46\"/>\r\n     <use x=\"95.410156\" xlink:href=\"#DejaVuSans-48\"/>\r\n     <use x=\"159.033203\" xlink:href=\"#DejaVuSans-50\"/>\r\n    </g>\r\n   </g>\r\n   <g id=\"text_36\">\r\n    <!-- 0.05 -->\r\n    <defs>\r\n     <path d=\"M 10.796875 72.90625 \r\nL 49.515625 72.90625 \r\nL 49.515625 64.59375 \r\nL 19.828125 64.59375 \r\nL 19.828125 46.734375 \r\nQ 21.96875 47.46875 24.109375 47.828125 \r\nQ 26.265625 48.1875 28.421875 48.1875 \r\nQ 40.625 48.1875 47.75 41.5 \r\nQ 54.890625 34.8125 54.890625 23.390625 \r\nQ 54.890625 11.625 47.5625 5.09375 \r\nQ 40.234375 -1.421875 26.90625 -1.421875 \r\nQ 22.3125 -1.421875 17.546875 -0.640625 \r\nQ 12.796875 0.140625 7.71875 1.703125 \r\nL 7.71875 11.625 \r\nQ 12.109375 9.234375 16.796875 8.0625 \r\nQ 21.484375 6.890625 26.703125 6.890625 \r\nQ 35.15625 6.890625 40.078125 11.328125 \r\nQ 45.015625 15.765625 45.015625 23.390625 \r\nQ 45.015625 31 40.078125 35.4375 \r\nQ 35.15625 39.890625 26.703125 39.890625 \r\nQ 22.75 39.890625 18.8125 39.015625 \r\nQ 14.890625 38.140625 10.796875 36.28125 \r\nz\r\n\" id=\"DejaVuSans-53\"/>\r\n    </defs>\r\n    <g style=\"fill:#ffffff;\" transform=\"translate(660.303438 40.938594)scale(0.1 -0.1)\">\r\n     <use xlink:href=\"#DejaVuSans-48\"/>\r\n     <use x=\"63.623047\" xlink:href=\"#DejaVuSans-46\"/>\r\n     <use x=\"95.410156\" xlink:href=\"#DejaVuSans-48\"/>\r\n     <use x=\"159.033203\" xlink:href=\"#DejaVuSans-53\"/>\r\n    </g>\r\n   </g>\r\n   <g id=\"text_37\">\r\n    <!-- 0.15 -->\r\n    <g style=\"fill:#ffffff;\" transform=\"translate(704.943438 40.938594)scale(0.1 -0.1)\">\r\n     <use xlink:href=\"#DejaVuSans-48\"/>\r\n     <use x=\"63.623047\" xlink:href=\"#DejaVuSans-46\"/>\r\n     <use x=\"95.410156\" xlink:href=\"#DejaVuSans-49\"/>\r\n     <use x=\"159.033203\" xlink:href=\"#DejaVuSans-53\"/>\r\n    </g>\r\n   </g>\r\n   <g id=\"text_38\">\r\n    <!-- 0.00 -->\r\n    <g style=\"fill:#ffffff;\" transform=\"translate(749.583438 40.938594)scale(0.1 -0.1)\">\r\n     <use xlink:href=\"#DejaVuSans-48\"/>\r\n     <use x=\"63.623047\" xlink:href=\"#DejaVuSans-46\"/>\r\n     <use x=\"95.410156\" xlink:href=\"#DejaVuSans-48\"/>\r\n     <use x=\"159.033203\" xlink:href=\"#DejaVuSans-48\"/>\r\n    </g>\r\n   </g>\r\n   <g id=\"text_39\">\r\n    <!-- 0.03 -->\r\n    <g style=\"fill:#ffffff;\" transform=\"translate(794.223438 40.938594)scale(0.1 -0.1)\">\r\n     <use xlink:href=\"#DejaVuSans-48\"/>\r\n     <use x=\"63.623047\" xlink:href=\"#DejaVuSans-46\"/>\r\n     <use x=\"95.410156\" xlink:href=\"#DejaVuSans-48\"/>\r\n     <use x=\"159.033203\" xlink:href=\"#DejaVuSans-51\"/>\r\n    </g>\r\n   </g>\r\n   <g id=\"text_40\">\r\n    <!-- 0.01 -->\r\n    <g style=\"fill:#ffffff;\" transform=\"translate(838.863438 40.938594)scale(0.1 -0.1)\">\r\n     <use xlink:href=\"#DejaVuSans-48\"/>\r\n     <use x=\"63.623047\" xlink:href=\"#DejaVuSans-46\"/>\r\n     <use x=\"95.410156\" xlink:href=\"#DejaVuSans-48\"/>\r\n     <use x=\"159.033203\" xlink:href=\"#DejaVuSans-49\"/>\r\n    </g>\r\n   </g>\r\n   <g id=\"text_41\">\r\n    <!-- 0.00 -->\r\n    <g style=\"fill:#ffffff;\" transform=\"translate(883.503438 40.938594)scale(0.1 -0.1)\">\r\n     <use xlink:href=\"#DejaVuSans-48\"/>\r\n     <use x=\"63.623047\" xlink:href=\"#DejaVuSans-46\"/>\r\n     <use x=\"95.410156\" xlink:href=\"#DejaVuSans-48\"/>\r\n     <use x=\"159.033203\" xlink:href=\"#DejaVuSans-48\"/>\r\n    </g>\r\n   </g>\r\n  </g>\r\n  <g id=\"axes_2\">\r\n   <g id=\"patch_3\">\r\n    <path clip-path=\"url(#p2a46bf0adc)\" d=\"M 972.75625 65.359219 \r\nL 972.75625 65.146875 \r\nL 972.75625 11.211563 \r\nL 972.75625 10.999219 \r\nL 975.47425 10.999219 \r\nL 975.47425 11.211563 \r\nL 975.47425 65.146875 \r\nL 975.47425 65.359219 \r\nz\r\n\" style=\"fill:#ffffff;stroke:#ffffff;stroke-linejoin:miter;stroke-width:0.01;\"/>\r\n   </g>\r\n   <image height=\"54\" id=\"image87578d79c7\" transform=\"scale(1 -1)translate(0 -54)\" width=\"2\" x=\"973\" xlink:href=\"data:image/png;base64,\r\niVBORw0KGgoAAAANSUhEUgAAAAIAAAA2CAYAAADtXUifAAAABHNCSVQICAgIfAhkiAAAAI1JREFUGJVlkEEWAyEIQ0EZDPYOvf8hW+1iki6c3X8/SFQH3tvMLNAvMzOLEYRsQdOT0B6RDDwOSO+PiCat3VACCNKc0SZg/42xVIBFqLUUbS1cKv3qXR9WBE2mYDCKQXNxdUQR+mRXA6/qk89pxU9wCGrcYAIHaEZqRgZFSJ3CPCGhPS9FBB8yWYfR8A/ZQBaXtGhUGwAAAABJRU5ErkJggg==\" y=\"-11\"/>\r\n   <g id=\"matplotlib.axis_3\"/>\r\n   <g id=\"matplotlib.axis_4\">\r\n    <g id=\"ytick_2\">\r\n     <g id=\"line2d_22\">\r\n      <defs>\r\n       <path d=\"M 0 0 \r\nL 3.5 0 \r\n\" id=\"m270c98e986\" style=\"stroke:#000000;stroke-width:0.8;\"/>\r\n      </defs>\r\n      <g>\r\n       <use style=\"stroke:#000000;stroke-width:0.8;\" x=\"975.47425\" xlink:href=\"#m270c98e986\" y=\"54.501754\"/>\r\n      </g>\r\n     </g>\r\n     <g id=\"text_42\">\r\n      <!-- 0.2 -->\r\n      <g transform=\"translate(982.47425 58.300973)scale(0.1 -0.1)\">\r\n       <use xlink:href=\"#DejaVuSans-48\"/>\r\n       <use x=\"63.623047\" xlink:href=\"#DejaVuSans-46\"/>\r\n       <use x=\"95.410156\" xlink:href=\"#DejaVuSans-50\"/>\r\n      </g>\r\n     </g>\r\n    </g>\r\n    <g id=\"ytick_3\">\r\n     <g id=\"line2d_23\">\r\n      <g>\r\n       <use style=\"stroke:#000000;stroke-width:0.8;\" x=\"975.47425\" xlink:href=\"#m270c98e986\" y=\"43.626121\"/>\r\n      </g>\r\n     </g>\r\n     <g id=\"text_43\">\r\n      <!-- 0.4 -->\r\n      <g transform=\"translate(982.47425 47.425339)scale(0.1 -0.1)\">\r\n       <use xlink:href=\"#DejaVuSans-48\"/>\r\n       <use x=\"63.623047\" xlink:href=\"#DejaVuSans-46\"/>\r\n       <use x=\"95.410156\" xlink:href=\"#DejaVuSans-52\"/>\r\n      </g>\r\n     </g>\r\n    </g>\r\n    <g id=\"ytick_4\">\r\n     <g id=\"line2d_24\">\r\n      <g>\r\n       <use style=\"stroke:#000000;stroke-width:0.8;\" x=\"975.47425\" xlink:href=\"#m270c98e986\" y=\"32.750487\"/>\r\n      </g>\r\n     </g>\r\n     <g id=\"text_44\">\r\n      <!-- 0.6 -->\r\n      <g transform=\"translate(982.47425 36.549705)scale(0.1 -0.1)\">\r\n       <use xlink:href=\"#DejaVuSans-48\"/>\r\n       <use x=\"63.623047\" xlink:href=\"#DejaVuSans-46\"/>\r\n       <use x=\"95.410156\" xlink:href=\"#DejaVuSans-54\"/>\r\n      </g>\r\n     </g>\r\n    </g>\r\n    <g id=\"ytick_5\">\r\n     <g id=\"line2d_25\">\r\n      <g>\r\n       <use style=\"stroke:#000000;stroke-width:0.8;\" x=\"975.47425\" xlink:href=\"#m270c98e986\" y=\"21.874853\"/>\r\n      </g>\r\n     </g>\r\n     <g id=\"text_45\">\r\n      <!-- 0.8 -->\r\n      <defs>\r\n       <path d=\"M 31.78125 34.625 \r\nQ 24.75 34.625 20.71875 30.859375 \r\nQ 16.703125 27.09375 16.703125 20.515625 \r\nQ 16.703125 13.921875 20.71875 10.15625 \r\nQ 24.75 6.390625 31.78125 6.390625 \r\nQ 38.8125 6.390625 42.859375 10.171875 \r\nQ 46.921875 13.96875 46.921875 20.515625 \r\nQ 46.921875 27.09375 42.890625 30.859375 \r\nQ 38.875 34.625 31.78125 34.625 \r\nz\r\nM 21.921875 38.8125 \r\nQ 15.578125 40.375 12.03125 44.71875 \r\nQ 8.5 49.078125 8.5 55.328125 \r\nQ 8.5 64.0625 14.71875 69.140625 \r\nQ 20.953125 74.21875 31.78125 74.21875 \r\nQ 42.671875 74.21875 48.875 69.140625 \r\nQ 55.078125 64.0625 55.078125 55.328125 \r\nQ 55.078125 49.078125 51.53125 44.71875 \r\nQ 48 40.375 41.703125 38.8125 \r\nQ 48.828125 37.15625 52.796875 32.3125 \r\nQ 56.78125 27.484375 56.78125 20.515625 \r\nQ 56.78125 9.90625 50.3125 4.234375 \r\nQ 43.84375 -1.421875 31.78125 -1.421875 \r\nQ 19.734375 -1.421875 13.25 4.234375 \r\nQ 6.78125 9.90625 6.78125 20.515625 \r\nQ 6.78125 27.484375 10.78125 32.3125 \r\nQ 14.796875 37.15625 21.921875 38.8125 \r\nz\r\nM 18.3125 54.390625 \r\nQ 18.3125 48.734375 21.84375 45.5625 \r\nQ 25.390625 42.390625 31.78125 42.390625 \r\nQ 38.140625 42.390625 41.71875 45.5625 \r\nQ 45.3125 48.734375 45.3125 54.390625 \r\nQ 45.3125 60.0625 41.71875 63.234375 \r\nQ 38.140625 66.40625 31.78125 66.40625 \r\nQ 25.390625 66.40625 21.84375 63.234375 \r\nQ 18.3125 60.0625 18.3125 54.390625 \r\nz\r\n\" id=\"DejaVuSans-56\"/>\r\n      </defs>\r\n      <g transform=\"translate(982.47425 25.674071)scale(0.1 -0.1)\">\r\n       <use xlink:href=\"#DejaVuSans-48\"/>\r\n       <use x=\"63.623047\" xlink:href=\"#DejaVuSans-46\"/>\r\n       <use x=\"95.410156\" xlink:href=\"#DejaVuSans-56\"/>\r\n      </g>\r\n     </g>\r\n    </g>\r\n    <g id=\"ytick_6\">\r\n     <g id=\"line2d_26\">\r\n      <g>\r\n       <use style=\"stroke:#000000;stroke-width:0.8;\" x=\"975.47425\" xlink:href=\"#m270c98e986\" y=\"10.999219\"/>\r\n      </g>\r\n     </g>\r\n     <g id=\"text_46\">\r\n      <!-- 1.0 -->\r\n      <g transform=\"translate(982.47425 14.798438)scale(0.1 -0.1)\">\r\n       <use xlink:href=\"#DejaVuSans-49\"/>\r\n       <use x=\"63.623047\" xlink:href=\"#DejaVuSans-46\"/>\r\n       <use x=\"95.410156\" xlink:href=\"#DejaVuSans-48\"/>\r\n      </g>\r\n     </g>\r\n    </g>\r\n   </g>\r\n   <g id=\"patch_4\">\r\n    <path d=\"M 972.75625 65.359219 \r\nL 972.75625 65.146875 \r\nL 972.75625 11.211563 \r\nL 972.75625 10.999219 \r\nL 975.47425 10.999219 \r\nL 975.47425 11.211563 \r\nL 975.47425 65.146875 \r\nL 975.47425 65.359219 \r\nz\r\n\" style=\"fill:none;\"/>\r\n   </g>\r\n  </g>\r\n </g>\r\n <defs>\r\n  <clipPath id=\"p71128aca53\">\r\n   <rect height=\"54.36\" width=\"892.8\" x=\"24.15625\" y=\"10.999219\"/>\r\n  </clipPath>\r\n  <clipPath id=\"p2a46bf0adc\">\r\n   <rect height=\"54.36\" width=\"2.718\" x=\"972.75625\" y=\"10.999219\"/>\r\n  </clipPath>\r\n </defs>\r\n</svg>\r\n",
      "image/png": "[encoded data removed]"
     },
     "metadata": {
      "needs_background": "light"
     }
    }
   ],
   "source": [
    "data = dataSourceCsv\n",
    "theilu = pd.DataFrame(index=['tipo_acidente'],columns=data.columns)\n",
    "columns = data.columns\n",
    "\n",
    "for j in range(0,len(columns)):\n",
    "    u = theil_u(data['tipo_acidente'].tolist(),data[columns[j]].tolist())\n",
    "    theilu.loc[:,columns[j]] = u\n",
    "theilu.fillna(value=np.nan,inplace=True)\n",
    "plt.figure(figsize=(20,1))\n",
    "sns.heatmap(theilu,annot=True,fmt='.2f')\n",
    "plt.show()"
   ]
  },
  {
   "cell_type": "markdown",
   "metadata": {},
   "source": [
    "Para o protótipo, escolhemos o DataSet de *Agrupados por pessoa - Todas as causas e tipos de acidentes em 2019*, disponível no link https://portal.prf.gov.br/dados-abertos-acidentes.\n",
    "\n",
    "Nossa intenção é ao usuário informar os dados necessários, o sistema predizer qual possível acidente ele sofreria.\n",
    "\n",
    "Fizemos toda a analise dos dados no python e encontramos uma grande dificuldade na parte de correlação entre os dados, já que os dados eram praticamente qualitativos. Encontramos ao formula Theil's U.\n",
    "\n",
    "Utilizando da formula U(x|y), esse coeficiente fornece um valor no intervalo de [0,1], onde 0 significa que o recurso y não fornece informações sobre o recurso x e 1 que fornece informações. E com isso, conseguimos identificar a correlação de alguns dados, o que mesmo assim, eram bem baixos.\n",
    "\n",
    "Após essas analises, partimos para a treino, que nos resultou em outros ‘problemas’, onde precisamos de uma classificação múltipla, além de ter que transformar os testos em ‘matrix’.\n",
    "\n",
    "Com isso, aplicamos o one-hot-encode nos dados e seguimos para a criação do modelo, o qual não conseguimos uma acurácia maior que 40%. \n",
    "\n",
    "Os dados mais importantes para encontrar o tipo de acidente eram dados ‘futuros’, como se ocorreu óbito e ferido por exemplo, dados dos quais não poderíamos utilizar, já que não fazia sentido perguntar para o usuário se no acidente que ele nem sabe qual seria, se ocorreu óbito ou não por exemplo.\n",
    "\n",
    "Na variável ‘Causa_acidente’, encontramos uma forma de entender como a pessoa se comporta ao volante, assim com se ela efetua as devidas manutenções no veículo, e essa nos trazia uma grande ajuda na predição do tipo de acidente que a pessoa poderia sofrer.\n",
    "\n",
    "Criamos grupos, limpamos mais dados, entre outros e a acuraria não mudou tanto, ficando por volta de 40%. \n",
    "\n",
    "Percebemos também que o DataSet tinha um desbalanceamento muito grande de acidentes por municípios, o que poderia ser um dos motivos da nossa acuraria estar tão baixa. \n",
    "\n",
    "Fizemos mais testes e mesmo assim, nossa acurácia não mudou muito.\n",
    "\n",
    "Seguimos com o projeto para a publicação, mesmo com uma acurácia mais baixa. \n",
    "\n",
    "Para implantar o modelo, optamos para fazer isso na linguagem C# utilizando o **[ML.net](https://dotnet.microsoft.com/apps/machinelearning-ai/ml-dotnet)**. Como a equipe está mais acostuma a programar em C# e a parte de analise estava pronta, decidimos deixar a criação do modelo no C#. Com isso, tivemos o seguinte fluxo nesse trabalho.\n",
    "•\tAnalise e tratamento de dados no Python;<br>\n",
    "•\tGeração de DataSet tratado pelo Python;<br>\n",
    "•\tCarga do DataSet tratado no C#;<br>\n",
    "•\tCriação do modelo de predição no C#;<br>\n",
    "•\tCarregamento do modelo de predição no C#;<br>\n",
    "•\tCriação da API no C#;<br>\n",
    "•\tCriação da tela de UI no C#.;<br>\n",
    "\n",
    "Fizemos essa mescla de tecnologias e conseguimos trabalhar muito bem, aproveitando o que cada uma tinha de melhor e no que estávamos mais adaptados na equipe. Infelizmente o C# não tem uma forma tão amigável de apresentar os dados como no Python e Jupyter, até encontramos uma forma de rodar o C# no Jupyter, porém, a parte de gráficos no C# ainda é fraca comparada ao Python.\n",
    "\n",
    "\n",
    "Acho que é isso pessoal\n",
    "\n",
    "Obrigado a todos e ao professor."
   ]
  },
  {
   "cell_type": "code",
   "execution_count": null,
   "metadata": {},
   "outputs": [],
   "source": []
  }
 ],
 "metadata": {
  "kernelspec": {
   "display_name": "Python 3.7.4 64-bit ('base': conda)",
   "language": "python",
   "name": "python37464bitbaseconda46d5447852d84be6b5bd1d1401316eee"
  },
  "language_info": {
   "codemirror_mode": {
    "name": "ipython",
    "version": 3
   },
   "file_extension": ".py",
   "mimetype": "text/x-python",
   "name": "python",
   "nbconvert_exporter": "python",
   "pygments_lexer": "ipython3",
   "version": "3.7.4-final"
  }
 },
 "nbformat": 4,
 "nbformat_minor": 4
}